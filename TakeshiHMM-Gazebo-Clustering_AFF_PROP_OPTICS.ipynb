{
 "cells": [
  {
   "cell_type": "code",
   "execution_count": 1,
   "metadata": {},
   "outputs": [
    {
     "data": {
      "application/javascript": [
       "IPython.notebook.set_autosave_interval(0)"
      ]
     },
     "metadata": {},
     "output_type": "display_data"
    },
    {
     "name": "stdout",
     "output_type": "stream",
     "text": [
      "Autosave disabled\n"
     ]
    }
   ],
   "source": [
    "from sklearn.cluster import KMeans\n",
    "import matplotlib.pyplot as plt\n",
    "%matplotlib inline\n",
    "\n",
    "import numpy as np\n",
    "import pandas as pd\n",
    "%autosave 0 "
   ]
  },
  {
   "cell_type": "code",
   "execution_count": 2,
   "metadata": {},
   "outputs": [],
   "source": [
    "\n",
    "\n",
    "class HMM (object):\n",
    "             def __init__(self,A,B,PI):\n",
    "                 self.A=A\n",
    "                 self.B=B\n",
    "                 self.PI=PI   \n",
    "def viterbi(obs,Modelo1,PI):\n",
    "    \n",
    "    delta=np.zeros((len(obs)+1,len(Modelo1.A)))\n",
    "    phi=np.zeros((len(obs)+1,len(A)))+666\n",
    "    path =np.zeros(len(obs)+1)\n",
    "    T=len(obs)\n",
    "    Modelo1.PI = PI\n",
    "    delta[0,:]= Modelo1.PI * Modelo1.B[:,obs[0]]\n",
    "    phi[0,:]=666\n",
    "    for t in range(len(obs)):\n",
    "        for j in range(delta.shape[1]):\n",
    "\n",
    "            delta [t+1,j]=np.max(delta[t] * A[:,j]) * B[j,obs[t]]\n",
    "            phi[t+1,j]= np.argmax(delta[t] * A[:,j])\n",
    "    path[T]=int(np.argmax(delta[T,:]))\n",
    "    for i in np.arange(T-1,0,-1):\n",
    "        #print (i,phi[i+1,int(path[i+1])])\n",
    "        path[i]=phi[i+1,int(path[i+1])]\n",
    "    return(path)\n",
    "def cuantizar_xy(xy, cc):\n",
    "    xycuant=cc\n",
    "    out=np.power(xycuant-xy,2).sum(axis=1).argmin()\n",
    "    return out\n",
    "    \n",
    "def path_to_xy(path,ccxy):\n",
    "    estimated= pd.DataFrame(path.astype(int).T)\n",
    "    estimated.columns=[['Path_vit']]\n",
    "    estimated['xcuant'] = estimated['Path_vit'].apply(lambda x: ccxy[x,0])\n",
    "    estimated['ycuant'] = estimated['Path_vit'].apply(lambda x: ccxy[x,1])                                \n",
    "    return (estimated)\n",
    "def quantized(xyth,ccxyth):\n",
    "    xythcuant=np.argmin(np.linalg.norm(xyth-ccxyth,axis=1))\n",
    "    x,y=ccxyth[xythcuant,:2]\n",
    "    return ((x,y),(xythcuant))\n",
    "\n"
   ]
  },
  {
   "cell_type": "code",
   "execution_count": 3,
   "metadata": {},
   "outputs": [],
   "source": [
    "def Markov_A_2_grafo(A,ccxyth):\n",
    "    dists=np.zeros(A.shape)\n",
    "    for i in range(A.shape[0]):\n",
    "        for j in range (A.shape[1]):\n",
    "            if A[i,j]!=0 :\n",
    "                dists[i,j]= np.linalg.norm(ccxyth[i]-ccxyth[j])    \n",
    "    \n",
    "    \n",
    "    con = np.where(dists==0,np.inf,dists)\n",
    "    graphe2=grafo(ccxyth,con)\n",
    "    return graphe2\n",
    "\n",
    "\n",
    "class node(object):\n",
    "    def __init__(self,x,y):\n",
    "        self.x=x\n",
    "        self.y=y\n",
    "        \n",
    "        \n",
    "class grafo (object):\n",
    "             def __init__(self,nodos,conec):\n",
    "                 self.nodos=nodos\n",
    "                 self.conec=conec        \n",
    "\n",
    "def dijkstra(nodoinicial,nodofinal,graphe):\n",
    "    \n",
    "\n",
    "    numnodos= len(graphe.nodos)\n",
    "    con = graphe.conec\n",
    "    D= np.ones(numnodos)*np.inf\n",
    "    Prv= np.ones(numnodos)*np.inf\n",
    "    V= np.zeros(numnodos)\n",
    "    a = nodoinicial\n",
    "    D[a]=0\n",
    "    Prv[a]=0\n",
    "    Prv[np.where(con[a]!=np.inf)]=a\n",
    "    V[a]=1\n",
    "    Dacc=D[a]\n",
    "    ########\n",
    "    D=np.minimum(D,con[a]+D[a])\n",
    "    cont=0\n",
    "    sucess=False\n",
    "    while(sucess==False):\n",
    "        a = np.argmin(D+np.where (V==1,np.inf, V))\n",
    "        Dacc=D[a]\n",
    "        Prv[np.where(D>(con[a]+Dacc) )]=a\n",
    "        V[a]=1\n",
    "        D=np.minimum(D,con[a]+Dacc)\n",
    "        if (a== nodofinal):\n",
    "            print(\"RUTA CALCULADA \")\n",
    "            sucess=True\n",
    "    rutainv=[]\n",
    "    rutainv.append(nodofinal)\n",
    "    while(rutainv[-1]!=nodoinicial):\n",
    "        prv=Prv[int(rutainv[-1])]\n",
    "        rutainv.append(prv)\n",
    "\n",
    "    ruta=[]\n",
    "    for n in reversed(rutainv):\n",
    "        ruta.append(n)\n",
    "    return(ruta)\n"
   ]
  },
  {
   "cell_type": "code",
   "execution_count": 4,
   "metadata": {},
   "outputs": [],
   "source": [
    "fast_load=True\n",
    "get_new_ccs= False\n",
    "\n",
    "\n",
    "if fast_load:\n",
    "    datamugroso=pd.read_csv('pddata.csv')\n",
    "    data= datamugroso.iloc[:5000,1:]\n",
    "lecs=data.iloc[:,:-5]"
   ]
  },
  {
   "cell_type": "code",
   "execution_count": 5,
   "metadata": {},
   "outputs": [
    {
     "data": {
      "text/html": [
       "<div>\n",
       "<style scoped>\n",
       "    .dataframe tbody tr th:only-of-type {\n",
       "        vertical-align: middle;\n",
       "    }\n",
       "\n",
       "    .dataframe tbody tr th {\n",
       "        vertical-align: top;\n",
       "    }\n",
       "\n",
       "    .dataframe thead th {\n",
       "        text-align: right;\n",
       "    }\n",
       "</style>\n",
       "<table border=\"1\" class=\"dataframe\">\n",
       "  <thead>\n",
       "    <tr style=\"text-align: right;\">\n",
       "      <th></th>\n",
       "      <th>R0</th>\n",
       "      <th>R1</th>\n",
       "      <th>R2</th>\n",
       "      <th>R3</th>\n",
       "      <th>R4</th>\n",
       "      <th>R5</th>\n",
       "      <th>R6</th>\n",
       "      <th>R7</th>\n",
       "      <th>R8</th>\n",
       "      <th>R9</th>\n",
       "      <th>...</th>\n",
       "      <th>R716</th>\n",
       "      <th>R717</th>\n",
       "      <th>R718</th>\n",
       "      <th>R719</th>\n",
       "      <th>R720</th>\n",
       "      <th>x</th>\n",
       "      <th>y</th>\n",
       "      <th>theta</th>\n",
       "      <th>Y</th>\n",
       "      <th>Vk</th>\n",
       "    </tr>\n",
       "  </thead>\n",
       "  <tbody>\n",
       "    <tr>\n",
       "      <th>count</th>\n",
       "      <td>5000.000000</td>\n",
       "      <td>5000.000000</td>\n",
       "      <td>5000.000000</td>\n",
       "      <td>5000.000000</td>\n",
       "      <td>5000.000000</td>\n",
       "      <td>5000.000000</td>\n",
       "      <td>5000.000000</td>\n",
       "      <td>5000.000000</td>\n",
       "      <td>5000.000000</td>\n",
       "      <td>5000.000000</td>\n",
       "      <td>...</td>\n",
       "      <td>5000.000000</td>\n",
       "      <td>5000.000000</td>\n",
       "      <td>5000.000000</td>\n",
       "      <td>5000.000000</td>\n",
       "      <td>5000.000000</td>\n",
       "      <td>5000.000000</td>\n",
       "      <td>5000.000000</td>\n",
       "      <td>5000.000000</td>\n",
       "      <td>5000.00000</td>\n",
       "      <td>5000.000000</td>\n",
       "    </tr>\n",
       "    <tr>\n",
       "      <th>mean</th>\n",
       "      <td>3.402382</td>\n",
       "      <td>3.409600</td>\n",
       "      <td>3.416237</td>\n",
       "      <td>3.420833</td>\n",
       "      <td>3.437508</td>\n",
       "      <td>3.437971</td>\n",
       "      <td>3.431013</td>\n",
       "      <td>3.446291</td>\n",
       "      <td>3.473203</td>\n",
       "      <td>3.476739</td>\n",
       "      <td>...</td>\n",
       "      <td>3.021208</td>\n",
       "      <td>3.028392</td>\n",
       "      <td>3.038327</td>\n",
       "      <td>3.040931</td>\n",
       "      <td>3.048745</td>\n",
       "      <td>0.323853</td>\n",
       "      <td>1.284426</td>\n",
       "      <td>-0.021538</td>\n",
       "      <td>47.02040</td>\n",
       "      <td>714.162800</td>\n",
       "    </tr>\n",
       "    <tr>\n",
       "      <th>std</th>\n",
       "      <td>2.258352</td>\n",
       "      <td>2.288833</td>\n",
       "      <td>2.313136</td>\n",
       "      <td>2.334823</td>\n",
       "      <td>2.371165</td>\n",
       "      <td>2.383696</td>\n",
       "      <td>2.395147</td>\n",
       "      <td>2.419690</td>\n",
       "      <td>2.466954</td>\n",
       "      <td>2.481735</td>\n",
       "      <td>...</td>\n",
       "      <td>1.917178</td>\n",
       "      <td>1.926336</td>\n",
       "      <td>1.950303</td>\n",
       "      <td>1.936652</td>\n",
       "      <td>1.946477</td>\n",
       "      <td>2.290104</td>\n",
       "      <td>2.272485</td>\n",
       "      <td>1.875011</td>\n",
       "      <td>26.26536</td>\n",
       "      <td>355.028404</td>\n",
       "    </tr>\n",
       "    <tr>\n",
       "      <th>min</th>\n",
       "      <td>0.406166</td>\n",
       "      <td>0.404345</td>\n",
       "      <td>0.403152</td>\n",
       "      <td>0.401979</td>\n",
       "      <td>0.400827</td>\n",
       "      <td>0.399097</td>\n",
       "      <td>0.397988</td>\n",
       "      <td>0.396898</td>\n",
       "      <td>0.395828</td>\n",
       "      <td>0.394177</td>\n",
       "      <td>...</td>\n",
       "      <td>0.302355</td>\n",
       "      <td>0.300858</td>\n",
       "      <td>0.302843</td>\n",
       "      <td>0.304866</td>\n",
       "      <td>0.306926</td>\n",
       "      <td>-3.598090</td>\n",
       "      <td>-2.479430</td>\n",
       "      <td>-3.140799</td>\n",
       "      <td>0.00000</td>\n",
       "      <td>54.000000</td>\n",
       "    </tr>\n",
       "    <tr>\n",
       "      <th>25%</th>\n",
       "      <td>1.727669</td>\n",
       "      <td>1.723148</td>\n",
       "      <td>1.716230</td>\n",
       "      <td>1.710468</td>\n",
       "      <td>1.706857</td>\n",
       "      <td>1.700470</td>\n",
       "      <td>1.696444</td>\n",
       "      <td>1.692167</td>\n",
       "      <td>1.689160</td>\n",
       "      <td>1.685759</td>\n",
       "      <td>...</td>\n",
       "      <td>1.786858</td>\n",
       "      <td>1.783736</td>\n",
       "      <td>1.787757</td>\n",
       "      <td>1.794740</td>\n",
       "      <td>1.800621</td>\n",
       "      <td>-1.616978</td>\n",
       "      <td>0.069145</td>\n",
       "      <td>-1.521660</td>\n",
       "      <td>25.00000</td>\n",
       "      <td>410.000000</td>\n",
       "    </tr>\n",
       "    <tr>\n",
       "      <th>50%</th>\n",
       "      <td>2.486736</td>\n",
       "      <td>2.479208</td>\n",
       "      <td>2.470679</td>\n",
       "      <td>2.463172</td>\n",
       "      <td>2.463257</td>\n",
       "      <td>2.451999</td>\n",
       "      <td>2.441074</td>\n",
       "      <td>2.436680</td>\n",
       "      <td>2.434537</td>\n",
       "      <td>2.424140</td>\n",
       "      <td>...</td>\n",
       "      <td>2.378609</td>\n",
       "      <td>2.379115</td>\n",
       "      <td>2.380856</td>\n",
       "      <td>2.383190</td>\n",
       "      <td>2.387996</td>\n",
       "      <td>0.590262</td>\n",
       "      <td>0.433777</td>\n",
       "      <td>-0.028836</td>\n",
       "      <td>49.00000</td>\n",
       "      <td>757.000000</td>\n",
       "    </tr>\n",
       "    <tr>\n",
       "      <th>75%</th>\n",
       "      <td>4.705279</td>\n",
       "      <td>4.692812</td>\n",
       "      <td>4.688686</td>\n",
       "      <td>4.669461</td>\n",
       "      <td>4.661849</td>\n",
       "      <td>4.654623</td>\n",
       "      <td>4.637549</td>\n",
       "      <td>4.645534</td>\n",
       "      <td>4.644250</td>\n",
       "      <td>4.637688</td>\n",
       "      <td>...</td>\n",
       "      <td>3.665876</td>\n",
       "      <td>3.665701</td>\n",
       "      <td>3.666466</td>\n",
       "      <td>3.671498</td>\n",
       "      <td>3.680754</td>\n",
       "      <td>2.498688</td>\n",
       "      <td>3.569995</td>\n",
       "      <td>1.627075</td>\n",
       "      <td>69.00000</td>\n",
       "      <td>1023.000000</td>\n",
       "    </tr>\n",
       "    <tr>\n",
       "      <th>max</th>\n",
       "      <td>11.924245</td>\n",
       "      <td>13.500000</td>\n",
       "      <td>11.927215</td>\n",
       "      <td>11.922179</td>\n",
       "      <td>13.500000</td>\n",
       "      <td>11.928967</td>\n",
       "      <td>11.923841</td>\n",
       "      <td>11.919124</td>\n",
       "      <td>11.914815</td>\n",
       "      <td>11.925266</td>\n",
       "      <td>...</td>\n",
       "      <td>12.099211</td>\n",
       "      <td>12.111974</td>\n",
       "      <td>12.123656</td>\n",
       "      <td>12.106474</td>\n",
       "      <td>12.117393</td>\n",
       "      <td>3.985533</td>\n",
       "      <td>5.268451</td>\n",
       "      <td>3.141053</td>\n",
       "      <td>97.00000</td>\n",
       "      <td>1496.000000</td>\n",
       "    </tr>\n",
       "  </tbody>\n",
       "</table>\n",
       "<p>8 rows × 726 columns</p>\n",
       "</div>"
      ],
      "text/plain": [
       "                R0           R1           R2           R3           R4  \\\n",
       "count  5000.000000  5000.000000  5000.000000  5000.000000  5000.000000   \n",
       "mean      3.402382     3.409600     3.416237     3.420833     3.437508   \n",
       "std       2.258352     2.288833     2.313136     2.334823     2.371165   \n",
       "min       0.406166     0.404345     0.403152     0.401979     0.400827   \n",
       "25%       1.727669     1.723148     1.716230     1.710468     1.706857   \n",
       "50%       2.486736     2.479208     2.470679     2.463172     2.463257   \n",
       "75%       4.705279     4.692812     4.688686     4.669461     4.661849   \n",
       "max      11.924245    13.500000    11.927215    11.922179    13.500000   \n",
       "\n",
       "                R5           R6           R7           R8           R9  ...  \\\n",
       "count  5000.000000  5000.000000  5000.000000  5000.000000  5000.000000  ...   \n",
       "mean      3.437971     3.431013     3.446291     3.473203     3.476739  ...   \n",
       "std       2.383696     2.395147     2.419690     2.466954     2.481735  ...   \n",
       "min       0.399097     0.397988     0.396898     0.395828     0.394177  ...   \n",
       "25%       1.700470     1.696444     1.692167     1.689160     1.685759  ...   \n",
       "50%       2.451999     2.441074     2.436680     2.434537     2.424140  ...   \n",
       "75%       4.654623     4.637549     4.645534     4.644250     4.637688  ...   \n",
       "max      11.928967    11.923841    11.919124    11.914815    11.925266  ...   \n",
       "\n",
       "              R716         R717         R718         R719         R720  \\\n",
       "count  5000.000000  5000.000000  5000.000000  5000.000000  5000.000000   \n",
       "mean      3.021208     3.028392     3.038327     3.040931     3.048745   \n",
       "std       1.917178     1.926336     1.950303     1.936652     1.946477   \n",
       "min       0.302355     0.300858     0.302843     0.304866     0.306926   \n",
       "25%       1.786858     1.783736     1.787757     1.794740     1.800621   \n",
       "50%       2.378609     2.379115     2.380856     2.383190     2.387996   \n",
       "75%       3.665876     3.665701     3.666466     3.671498     3.680754   \n",
       "max      12.099211    12.111974    12.123656    12.106474    12.117393   \n",
       "\n",
       "                 x            y        theta           Y           Vk  \n",
       "count  5000.000000  5000.000000  5000.000000  5000.00000  5000.000000  \n",
       "mean      0.323853     1.284426    -0.021538    47.02040   714.162800  \n",
       "std       2.290104     2.272485     1.875011    26.26536   355.028404  \n",
       "min      -3.598090    -2.479430    -3.140799     0.00000    54.000000  \n",
       "25%      -1.616978     0.069145    -1.521660    25.00000   410.000000  \n",
       "50%       0.590262     0.433777    -0.028836    49.00000   757.000000  \n",
       "75%       2.498688     3.569995     1.627075    69.00000  1023.000000  \n",
       "max       3.985533     5.268451     3.141053    97.00000  1496.000000  \n",
       "\n",
       "[8 rows x 726 columns]"
      ]
     },
     "execution_count": 5,
     "metadata": {},
     "output_type": "execute_result"
    }
   ],
   "source": [
    "data.describe()\n"
   ]
  },
  {
   "cell_type": "code",
   "execution_count": 6,
   "metadata": {},
   "outputs": [],
   "source": [
    "from sklearn.cluster import AffinityPropagation\n",
    "\n",
    "aff_prop= AffinityPropagation\n",
    "from sklearn.cluster import DBSCAN\n"
   ]
  },
  {
   "cell_type": "code",
   "execution_count": null,
   "metadata": {},
   "outputs": [],
   "source": [
    "af = AffinityPropagation().fit(lecs)\n",
    "db=DBSCAN().fit(lecs)"
   ]
  },
  {
   "cell_type": "code",
   "execution_count": null,
   "metadata": {},
   "outputs": [],
   "source": [
    "data['Vk_aff']=af.labels_\n",
    "ccvk_aff=af.cluster_centers_"
   ]
  },
  {
   "cell_type": "code",
   "execution_count": null,
   "metadata": {},
   "outputs": [],
   "source": [
    "data[['Vk','Vk_aff']]"
   ]
  },
  {
   "cell_type": "code",
   "execution_count": null,
   "metadata": {},
   "outputs": [],
   "source": [
    "cc=np.load('ccvk.npy')\n",
    "fig = plt.figure(figsize=(10,10))\n",
    "\n",
    "ax1 = fig.add_subplot(111)\n",
    "ax1.scatter(x= data.x, y=data.y,marker='+',c=data.Vk_aff,alpha=.313)\n",
    "fig.suptitle('Affinity Prop', fontsize=16)\n",
    "\n",
    "\n",
    "\n",
    "\n",
    "#cords3=path_to_xy(np.arange(0,len(cc)),cc)\n",
    "#ax1.scatter(x= cords3.xcuant, y=cords3.ycuant ,marker='.',s=40,c='g')\n",
    "\n"
   ]
  },
  {
   "cell_type": "code",
   "execution_count": null,
   "metadata": {},
   "outputs": [],
   "source": []
  },
  {
   "cell_type": "code",
   "execution_count": null,
   "metadata": {},
   "outputs": [],
   "source": [
    "#index_forlec=data.Vk_aff.value_counts().iloc[1]\n",
    "lec_leida= data.Vk_aff.value_counts().index[1]\n",
    "#lec=data.iloc[index_forlec,:-6].values\n",
    "lec=data[data.Vk_aff==lec_leida].iloc[0,:-6].values\n",
    "lec_leida"
   ]
  },
  {
   "cell_type": "code",
   "execution_count": null,
   "metadata": {},
   "outputs": [],
   "source": [
    "#lec=np.load('lec.npy')\n",
    "\n",
    "start_ang=-240/2*np.pi/180\n",
    "stop_ang= 240/2*np.pi/180\n",
    "angs=np.linspace(start_ang,stop_ang,num=len(lec))\n"
   ]
  },
  {
   "cell_type": "code",
   "execution_count": null,
   "metadata": {},
   "outputs": [],
   "source": [
    "ccvk=cc\n",
    "cordsy, cordsx= np.cos(angs) *  lec ,  np.sin(angs) *  lec\n",
    "CORDS=pd.DataFrame((cordsx,cordsy))\n",
    "CORDS=CORDS.T\n",
    "CORDS.columns=[['x','y']]\n",
    "#print(np.power(lec.T-ccvk,2).sum(axis=1,keepdims=True).argmax())\n",
    "vec_obs=ccvk[np.power(lec.T-ccvk,2).sum(axis=1,keepdims=True).argmax()]\n",
    "vec_obs_aff=ccvk_aff[lec_leida]\n",
    "\n",
    "cordsy, cordsx= np.cos(angs) *  vec_obs ,  np.sin(angs) *  vec_obs\n",
    "CORDS['xx'],CORDS['yy']=cordsx,cordsy\n",
    "cordsy, cordsx= np.cos(angs) *  vec_obs_aff ,  np.sin(angs) *  vec_obs_aff\n",
    "CORDS['xxx'],CORDS['yyy']=cordsx,cordsy\n",
    "\n",
    "fig = plt.figure(figsize=(10,10))\n",
    "fig.suptitle('Comparison Between real read and cuantized', fontsize=16)\n",
    "\n",
    "ax1 = fig.add_subplot(111)\n",
    "ax1.scatter(x= CORDS.x, y=CORDS.y,marker='+' , label= 'Real Read')\n",
    "ax1.scatter(x=CORDS.xx,y=CORDS.yy,marker='*', label= 'MiniKmeans Centroid')\n",
    "ax1.scatter(x=CORDS.xxx,y=CORDS.yyy,marker='|', label= 'Affinity Prop')\n",
    "ax1.legend()"
   ]
  },
  {
   "cell_type": "code",
   "execution_count": null,
   "metadata": {},
   "outputs": [],
   "source": [
    "auxy , auxx =np.array([0,0]),np.array([0,0])\n",
    "start_ang=-250/2*np.pi/180\n",
    "stop_ang= 250/2*np.pi/180\n",
    "angs=np.linspace(start_ang,stop_ang,num=len(vec_obs))\n",
    "\n",
    "\n",
    "lecs=data[data.Vk_aff==lec_leida].sample(n=70,axis=0).iloc[:,:-6]\n",
    "\n",
    "for  vec_obs in lecs.values.tolist():\n",
    "    cordsy,cordsx= np.cos(angs) *  vec_obs ,  np.sin(angs) *  vec_obs\n",
    "    auxy,auxx=np.concatenate((auxy,cordsy)),np.concatenate((auxx,cordsx))\n",
    "print(lec_leida)    "
   ]
  },
  {
   "cell_type": "code",
   "execution_count": null,
   "metadata": {},
   "outputs": [],
   "source": [
    "\n",
    "CORDS=pd.DataFrame((auxx,auxy))\n",
    "CORDS=CORDS.T\n",
    "CORDS.columns=[['x','y']]\n",
    "\n",
    "vec_obs=ccvk_aff[lec_leida]\n",
    "cordsy, cordsx= np.cos(angs) *  vec_obs ,  np.sin(angs) *  vec_obs\n",
    "\n",
    "CORDSVK=pd.DataFrame()\n",
    "CORDSVK['xx'],CORDSVK['yy']=cordsx,cordsy\n",
    "\n",
    "\n",
    "fig = plt.figure(figsize=(10,10))\n",
    "fig.suptitle('Comparison Between real 15 random reads and their cuantized versions Aff Prop', fontsize=16)\n",
    "\n",
    "ax1 = fig.add_subplot(111)\n",
    "ax1.scatter(x= CORDS.x, y=CORDS.y,marker='+')\n",
    "ax1.scatter(x=CORDSVK.xx,y=CORDSVK.yy,marker='*')\n",
    "print(lec_leida)"
   ]
  },
  {
   "cell_type": "code",
   "execution_count": null,
   "metadata": {},
   "outputs": [],
   "source": [
    "lec_leida= data.Vk_aff.value_counts().index[3]\n",
    "\n",
    "lec=data[data.Vk_aff==lec_leida].iloc[0,:-6].values\n",
    "\n",
    "lec_leida"
   ]
  },
  {
   "cell_type": "code",
   "execution_count": null,
   "metadata": {},
   "outputs": [],
   "source": [
    "ccvk=cc\n",
    "cordsy, cordsx= np.cos(angs) *  lec ,  np.sin(angs) *  lec\n",
    "CORDS=pd.DataFrame((cordsx,cordsy))\n",
    "CORDS=CORDS.T\n",
    "CORDS.columns=[['x','y']]\n",
    "#print(np.power(lec.T-ccvk,2).sum(axis=1,keepdims=True).argmax())\n",
    "vec_obs=ccvk[np.power(lec.T-ccvk,2).sum(axis=1,keepdims=True).argmax()]\n",
    "vec_obs_aff=ccvk_aff[lec_leida]\n",
    "\n",
    "cordsy, cordsx= np.cos(angs) *  vec_obs ,  np.sin(angs) *  vec_obs\n",
    "CORDS['xx'],CORDS['yy']=cordsx,cordsy\n",
    "cordsy, cordsx= np.cos(angs) *  vec_obs_aff ,  np.sin(angs) *  vec_obs_aff\n",
    "CORDS['xxx'],CORDS['yyy']=cordsx,cordsy\n",
    "\n",
    "fig = plt.figure(figsize=(10,10))\n",
    "fig.suptitle('Comparison Between real read and cuantized', fontsize=16)\n",
    "\n",
    "ax1 = fig.add_subplot(111)\n",
    "ax1.scatter(x= CORDS.x, y=CORDS.y,marker='+' , label= 'Real Read')\n",
    "ax1.scatter(x=CORDS.xx,y=CORDS.yy,marker='*', label= 'MiniKmeans Centroid')\n",
    "ax1.scatter(x=CORDS.xxx,y=CORDS.yyy,marker='|', label= 'Affinity Prop')\n",
    "ax1.legend()"
   ]
  },
  {
   "cell_type": "code",
   "execution_count": null,
   "metadata": {},
   "outputs": [],
   "source": [
    "auxy , auxx =np.array([0,0]),np.array([0,0])\n",
    "start_ang=-250/2*np.pi/180\n",
    "stop_ang= 250/2*np.pi/180\n",
    "angs=np.linspace(start_ang,stop_ang,num=len(vec_obs))\n",
    "\n",
    "\n",
    "lecs=data[data.Vk_aff==lec_leida].sample(n=64,axis=0).iloc[:,:-6]\n",
    "\n",
    "for  vec_obs in lecs.values.tolist():\n",
    "    cordsy,cordsx= np.cos(angs) *  vec_obs ,  np.sin(angs) *  vec_obs\n",
    "    auxy,auxx=np.concatenate((auxy,cordsy)),np.concatenate((auxx,cordsx))\n",
    "print(lec_leida)    "
   ]
  },
  {
   "cell_type": "code",
   "execution_count": null,
   "metadata": {},
   "outputs": [],
   "source": [
    "\n",
    "CORDS=pd.DataFrame((auxx,auxy))\n",
    "CORDS=CORDS.T\n",
    "CORDS.columns=[['x','y']]\n",
    "\n",
    "vec_obs=ccvk_aff[lec_leida]\n",
    "cordsy, cordsx= np.cos(angs) *  vec_obs ,  np.sin(angs) *  vec_obs\n",
    "\n",
    "CORDSVK=pd.DataFrame()\n",
    "CORDSVK['xx'],CORDSVK['yy']=cordsx,cordsy\n",
    "\n",
    "\n",
    "fig = plt.figure(figsize=(10,10))\n",
    "fig.suptitle('Comparison Between real 15 random reads and their cuantized versions Aff Prop', fontsize=16)\n",
    "\n",
    "ax1 = fig.add_subplot(111)\n",
    "ax1.scatter(x= CORDS.x, y=CORDS.y,marker='+')\n",
    "ax1.scatter(x=CORDSVK.xx,y=CORDSVK.yy,marker='*')\n",
    "print(lec_leida)"
   ]
  },
  {
   "cell_type": "code",
   "execution_count": 55,
   "metadata": {},
   "outputs": [],
   "source": [
    "import pickle"
   ]
  },
  {
   "cell_type": "code",
   "execution_count": 56,
   "metadata": {},
   "outputs": [],
   "source": [
    "s=pickle.dumps(af)"
   ]
  },
  {
   "cell_type": "code",
   "execution_count": null,
   "metadata": {},
   "outputs": [],
   "source": [
    "af2=pickle.loads(s)"
   ]
  },
  {
   "cell_type": "code",
   "execution_count": null,
   "metadata": {},
   "outputs": [],
   "source": [
    "af2.fit_predict(lecs)"
   ]
  },
  {
   "cell_type": "code",
   "execution_count": null,
   "metadata": {},
   "outputs": [],
   "source": [
    "lec_t=lec.reshape(1,len(lec))\n",
    "af2.predict(lec_t)"
   ]
  },
  {
   "cell_type": "code",
   "execution_count": 53,
   "metadata": {},
   "outputs": [],
   "source": [
    "from joblib import dump, load"
   ]
  },
  {
   "cell_type": "code",
   "execution_count": 58,
   "metadata": {},
   "outputs": [
    {
     "data": {
      "text/plain": [
       "['aff_prop_class.joblib']"
      ]
     },
     "execution_count": 58,
     "metadata": {},
     "output_type": "execute_result"
    }
   ],
   "source": [
    "dump(af, 'aff_prop_class.joblib',protocol=2) "
   ]
  },
  {
   "cell_type": "code",
   "execution_count": null,
   "metadata": {},
   "outputs": [],
   "source": []
  },
  {
   "cell_type": "code",
   "execution_count": null,
   "metadata": {},
   "outputs": [],
   "source": []
  },
  {
   "cell_type": "code",
   "execution_count": null,
   "metadata": {},
   "outputs": [],
   "source": [
    "lecs=data.iloc[:,:-6]\n",
    "from sklearn.cluster import OPTICS\n",
    "clust = OPTICS(min_samples=10)"
   ]
  },
  {
   "cell_type": "code",
   "execution_count": null,
   "metadata": {},
   "outputs": [],
   "source": [
    "clust.fit(lecs)"
   ]
  },
  {
   "cell_type": "code",
   "execution_count": null,
   "metadata": {},
   "outputs": [],
   "source": [
    "pd.Series(clust.labels_).describe()\n",
    "data.Vk_aff=clust.labels_"
   ]
  },
  {
   "cell_type": "code",
   "execution_count": null,
   "metadata": {},
   "outputs": [],
   "source": []
  },
  {
   "cell_type": "code",
   "execution_count": null,
   "metadata": {},
   "outputs": [],
   "source": [
    "#index_forlec=data.Vk_aff.value_counts().iloc[1]\n",
    "lec_leida= data.Vk_aff.value_counts().index[1]\n",
    "#lec=data.iloc[index_forlec,:-6].values\n",
    "lec=data[data.Vk_aff==lec_leida].iloc[0,:-6].values\n",
    "lec_leida"
   ]
  },
  {
   "cell_type": "code",
   "execution_count": null,
   "metadata": {},
   "outputs": [],
   "source": [
    "#lec=np.load('lec.npy')\n",
    "\n",
    "start_ang=-240/2*np.pi/180\n",
    "stop_ang= 240/2*np.pi/180\n",
    "angs=np.linspace(start_ang,stop_ang,num=len(lec))\n"
   ]
  },
  {
   "cell_type": "code",
   "execution_count": null,
   "metadata": {},
   "outputs": [],
   "source": [
    "ccvk=cc\n",
    "cordsy, cordsx= np.cos(angs) *  lec ,  np.sin(angs) *  lec\n",
    "CORDS=pd.DataFrame((cordsx,cordsy))\n",
    "CORDS=CORDS.T\n",
    "CORDS.columns=[['x','y']]\n",
    "#print(np.power(lec.T-ccvk,2).sum(axis=1,keepdims=True).argmax())\n",
    "vec_obs=ccvk[np.power(lec.T-ccvk,2).sum(axis=1,keepdims=True).argmax()]\n",
    "vec_obs_aff=ccvk_aff[lec_leida]\n",
    "\n",
    "cordsy, cordsx= np.cos(angs) *  vec_obs ,  np.sin(angs) *  vec_obs\n",
    "CORDS['xx'],CORDS['yy']=cordsx,cordsy\n",
    "cordsy, cordsx= np.cos(angs) *  vec_obs_aff ,  np.sin(angs) *  vec_obs_aff\n",
    "CORDS['xxx'],CORDS['yyy']=cordsx,cordsy\n",
    "\n",
    "fig = plt.figure(figsize=(10,10))\n",
    "fig.suptitle('Comparison Between real read and cuantized', fontsize=16)\n",
    "\n",
    "ax1 = fig.add_subplot(111)\n",
    "ax1.scatter(x= CORDS.x, y=CORDS.y,marker='+' , label= 'Real Read')\n",
    "ax1.scatter(x=CORDS.xx,y=CORDS.yy,marker='*', label= 'MiniKmeans Centroid')\n",
    "ax1.scatter(x=CORDS.xxx,y=CORDS.yyy,marker='|', label= 'OPTICS')\n",
    "ax1.legend()"
   ]
  },
  {
   "cell_type": "code",
   "execution_count": null,
   "metadata": {},
   "outputs": [],
   "source": [
    "auxy , auxx =np.array([0,0]),np.array([0,0])\n",
    "start_ang=-250/2*np.pi/180\n",
    "stop_ang= 250/2*np.pi/180\n",
    "angs=np.linspace(start_ang,stop_ang,num=len(vec_obs))\n",
    "\n",
    "\n",
    "lecs=data[data.Vk_aff==lec_leida].sample(n=70,axis=0).iloc[:,:-6]\n",
    "\n",
    "for  vec_obs in lecs.values.tolist():\n",
    "    cordsy,cordsx= np.cos(angs) *  vec_obs ,  np.sin(angs) *  vec_obs\n",
    "    auxy,auxx=np.concatenate((auxy,cordsy)),np.concatenate((auxx,cordsx))\n",
    "print(lec_leida)    "
   ]
  },
  {
   "cell_type": "code",
   "execution_count": null,
   "metadata": {},
   "outputs": [],
   "source": [
    "\n",
    "CORDS=pd.DataFrame((auxx,auxy))\n",
    "CORDS=CORDS.T\n",
    "CORDS.columns=[['x','y']]\n",
    "\n",
    "vec_obs=ccvk_aff[lec_leida]\n",
    "cordsy, cordsx= np.cos(angs) *  vec_obs ,  np.sin(angs) *  vec_obs\n",
    "\n",
    "CORDSVK=pd.DataFrame()\n",
    "CORDSVK['xx'],CORDSVK['yy']=cordsx,cordsy\n",
    "\n",
    "\n",
    "fig = plt.figure(figsize=(10,10))\n",
    "fig.suptitle('Comparison Between real 15 random reads and their cuantized versions OPTICS', fontsize=16)\n",
    "\n",
    "ax1 = fig.add_subplot(111)\n",
    "ax1.scatter(x= CORDS.x, y=CORDS.y,marker='+')\n",
    "ax1.scatter(x=CORDSVK.xx,y=CORDSVK.yy,marker='*')\n",
    "print(lec_leida)"
   ]
  },
  {
   "cell_type": "code",
   "execution_count": null,
   "metadata": {},
   "outputs": [],
   "source": [
    "lec_leida= data.Vk_aff.value_counts().index[3]\n",
    "\n",
    "lec=data[data.Vk_aff==lec_leida].iloc[0,:-6].values\n",
    "\n",
    "lec_leida"
   ]
  },
  {
   "cell_type": "code",
   "execution_count": null,
   "metadata": {},
   "outputs": [],
   "source": [
    "ccvk=cc\n",
    "cordsy, cordsx= np.cos(angs) *  lec ,  np.sin(angs) *  lec\n",
    "CORDS=pd.DataFrame((cordsx,cordsy))\n",
    "CORDS=CORDS.T\n",
    "CORDS.columns=[['x','y']]\n",
    "#print(np.power(lec.T-ccvk,2).sum(axis=1,keepdims=True).argmax())\n",
    "vec_obs=ccvk[np.power(lec.T-ccvk,2).sum(axis=1,keepdims=True).argmax()]\n",
    "vec_obs_aff=ccvk_aff[lec_leida]\n",
    "\n",
    "cordsy, cordsx= np.cos(angs) *  vec_obs ,  np.sin(angs) *  vec_obs\n",
    "CORDS['xx'],CORDS['yy']=cordsx,cordsy\n",
    "cordsy, cordsx= np.cos(angs) *  vec_obs_aff ,  np.sin(angs) *  vec_obs_aff\n",
    "CORDS['xxx'],CORDS['yyy']=cordsx,cordsy\n",
    "\n",
    "fig = plt.figure(figsize=(10,10))\n",
    "fig.suptitle('Comparison Between real read and cuantized', fontsize=16)\n",
    "\n",
    "ax1 = fig.add_subplot(111)\n",
    "ax1.scatter(x= CORDS.x, y=CORDS.y,marker='+' , label= 'Real Read')\n",
    "ax1.scatter(x=CORDS.xx,y=CORDS.yy,marker='*', label= 'MiniKmeans Centroid')\n",
    "ax1.scatter(x=CORDS.xxx,y=CORDS.yyy,marker='|', label= 'OPTICS')\n",
    "ax1.legend()"
   ]
  },
  {
   "cell_type": "code",
   "execution_count": null,
   "metadata": {},
   "outputs": [],
   "source": [
    "auxy , auxx =np.array([0,0]),np.array([0,0])\n",
    "start_ang=-250/2*np.pi/180\n",
    "stop_ang= 250/2*np.pi/180\n",
    "angs=np.linspace(start_ang,stop_ang,num=len(vec_obs))\n",
    "\n",
    "\n",
    "lecs=data[data.Vk_aff==lec_leida].sample(n=64,axis=0).iloc[:,:-6]\n",
    "\n",
    "for  vec_obs in lecs.values.tolist():\n",
    "    cordsy,cordsx= np.cos(angs) *  vec_obs ,  np.sin(angs) *  vec_obs\n",
    "    auxy,auxx=np.concatenate((auxy,cordsy)),np.concatenate((auxx,cordsx))\n",
    "print(lec_leida)    "
   ]
  },
  {
   "cell_type": "code",
   "execution_count": null,
   "metadata": {},
   "outputs": [],
   "source": [
    "\n",
    "CORDS=pd.DataFrame((auxx,auxy))\n",
    "CORDS=CORDS.T\n",
    "CORDS.columns=[['x','y']]\n",
    "\n",
    "vec_obs=ccvk_aff[lec_leida]\n",
    "cordsy, cordsx= np.cos(angs) *  vec_obs ,  np.sin(angs) *  vec_obs\n",
    "\n",
    "CORDSVK=pd.DataFrame()\n",
    "CORDSVK['xx'],CORDSVK['yy']=cordsx,cordsy\n",
    "\n",
    "\n",
    "fig = plt.figure(figsize=(10,10))\n",
    "fig.suptitle('Comparison Between real 15 random reads and their cuantized versions OPTICS', fontsize=16)\n",
    "\n",
    "ax1 = fig.add_subplot(111)\n",
    "ax1.scatter(x= CORDS.x, y=CORDS.y,marker='+')\n",
    "ax1.scatter(x=CORDSVK.xx,y=CORDSVK.yy,marker='*')\n",
    "print(lec_leida)"
   ]
  },
  {
   "cell_type": "code",
   "execution_count": null,
   "metadata": {},
   "outputs": [],
   "source": [
    "Optics_trained=pickle.dumps(clust)"
   ]
  },
  {
   "cell_type": "code",
   "execution_count": null,
   "metadata": {},
   "outputs": [],
   "source": [
    "lecs=data.iloc[:,:-6]\n",
    "from sklearn.cluster import FeatureAgglomeration\n",
    "agglo = FeatureAgglomeration(n_clusters=15)"
   ]
  },
  {
   "cell_type": "code",
   "execution_count": null,
   "metadata": {},
   "outputs": [],
   "source": [
    "agglo.fit(lecs)"
   ]
  },
  {
   "cell_type": "code",
   "execution_count": null,
   "metadata": {},
   "outputs": [],
   "source": [
    "lecs_reduced=agglo.fit_transform(lecs)"
   ]
  },
  {
   "cell_type": "code",
   "execution_count": null,
   "metadata": {},
   "outputs": [],
   "source": [
    "lecs_reduced.shape"
   ]
  },
  {
   "cell_type": "code",
   "execution_count": null,
   "metadata": {},
   "outputs": [],
   "source": [
    "from sklearn.decomposition import PCA, KernelPCA"
   ]
  },
  {
   "cell_type": "code",
   "execution_count": null,
   "metadata": {},
   "outputs": [],
   "source": [
    "pca =PCA(n_components=15)\n",
    "pca.fit(lecs)"
   ]
  },
  {
   "cell_type": "code",
   "execution_count": null,
   "metadata": {},
   "outputs": [],
   "source": [
    "pca.transform(lecs).shape"
   ]
  },
  {
   "cell_type": "code",
   "execution_count": null,
   "metadata": {},
   "outputs": [],
   "source": [
    "###TO DO GRID SEARCH PCA. FEATURE AGGL"
   ]
  },
  {
   "cell_type": "code",
   "execution_count": null,
   "metadata": {},
   "outputs": [],
   "source": []
  },
  {
   "cell_type": "code",
   "execution_count": null,
   "metadata": {},
   "outputs": [],
   "source": []
  }
 ],
 "metadata": {
  "kernelspec": {
   "display_name": "Python 3",
   "language": "python",
   "name": "python3"
  },
  "language_info": {
   "codemirror_mode": {
    "name": "ipython",
    "version": 3
   },
   "file_extension": ".py",
   "mimetype": "text/x-python",
   "name": "python",
   "nbconvert_exporter": "python",
   "pygments_lexer": "ipython3",
   "version": "3.5.2"
  }
 },
 "nbformat": 4,
 "nbformat_minor": 2
}
