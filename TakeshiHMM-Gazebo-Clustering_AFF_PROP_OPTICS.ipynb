{
 "cells": [
  {
   "cell_type": "code",
   "execution_count": 1,
   "metadata": {},
   "outputs": [
    {
     "data": {
      "application/javascript": [
       "IPython.notebook.set_autosave_interval(0)"
      ]
     },
     "metadata": {},
     "output_type": "display_data"
    },
    {
     "name": "stdout",
     "output_type": "stream",
     "text": [
      "Autosave disabled\n"
     ]
    }
   ],
   "source": [
    "from sklearn.cluster import KMeans\n",
    "import matplotlib.pyplot as plt\n",
    "%matplotlib inline\n",
    "\n",
    "import numpy as np\n",
    "import pandas as pd\n",
    "%autosave 0 "
   ]
  },
  {
   "cell_type": "code",
   "execution_count": 2,
   "metadata": {},
   "outputs": [],
   "source": [
    "\n",
    "\n",
    "class HMM (object):\n",
    "             def __init__(self,A,B,PI):\n",
    "                 self.A=A\n",
    "                 self.B=B\n",
    "                 self.PI=PI   \n",
    "def viterbi(obs,Modelo1,PI):\n",
    "    \n",
    "    delta=np.zeros((len(obs)+1,len(Modelo1.A)))\n",
    "    phi=np.zeros((len(obs)+1,len(A)))+666\n",
    "    path =np.zeros(len(obs)+1)\n",
    "    T=len(obs)\n",
    "    Modelo1.PI = PI\n",
    "    delta[0,:]= Modelo1.PI * Modelo1.B[:,obs[0]]\n",
    "    phi[0,:]=666\n",
    "    for t in range(len(obs)):\n",
    "        for j in range(delta.shape[1]):\n",
    "\n",
    "            delta [t+1,j]=np.max(delta[t] * A[:,j]) * B[j,obs[t]]\n",
    "            phi[t+1,j]= np.argmax(delta[t] * A[:,j])\n",
    "    path[T]=int(np.argmax(delta[T,:]))\n",
    "    for i in np.arange(T-1,0,-1):\n",
    "        #print (i,phi[i+1,int(path[i+1])])\n",
    "        path[i]=phi[i+1,int(path[i+1])]\n",
    "    return(path)\n",
    "def cuantizar_xy(xy, cc):\n",
    "    xycuant=cc\n",
    "    out=np.power(xycuant-xy,2).sum(axis=1).argmin()\n",
    "    return out\n",
    "    \n",
    "def path_to_xy(path,ccxy):\n",
    "    estimated= pd.DataFrame(path.astype(int).T)\n",
    "    estimated.columns=[['Path_vit']]\n",
    "    estimated['xcuant'] = estimated['Path_vit'].apply(lambda x: ccxy[x,0])\n",
    "    estimated['ycuant'] = estimated['Path_vit'].apply(lambda x: ccxy[x,1])                                \n",
    "    return (estimated)\n",
    "def quantized(xyth,ccxyth):\n",
    "    xythcuant=np.argmin(np.linalg.norm(xyth-ccxyth,axis=1))\n",
    "    x,y=ccxyth[xythcuant,:2]\n",
    "    return ((x,y),(xythcuant))\n",
    "\n"
   ]
  },
  {
   "cell_type": "code",
   "execution_count": 3,
   "metadata": {},
   "outputs": [],
   "source": [
    "def Markov_A_2_grafo(A,ccxyth):\n",
    "    dists=np.zeros(A.shape)\n",
    "    for i in range(A.shape[0]):\n",
    "        for j in range (A.shape[1]):\n",
    "            if A[i,j]!=0 :\n",
    "                dists[i,j]= np.linalg.norm(ccxyth[i]-ccxyth[j])    \n",
    "    \n",
    "    \n",
    "    con = np.where(dists==0,np.inf,dists)\n",
    "    graphe2=grafo(ccxyth,con)\n",
    "    return graphe2\n",
    "\n",
    "\n",
    "class node(object):\n",
    "    def __init__(self,x,y):\n",
    "        self.x=x\n",
    "        self.y=y\n",
    "        \n",
    "        \n",
    "class grafo (object):\n",
    "             def __init__(self,nodos,conec):\n",
    "                 self.nodos=nodos\n",
    "                 self.conec=conec        \n",
    "\n",
    "def dijkstra(nodoinicial,nodofinal,graphe):\n",
    "    \n",
    "\n",
    "    numnodos= len(graphe.nodos)\n",
    "    con = graphe.conec\n",
    "    D= np.ones(numnodos)*np.inf\n",
    "    Prv= np.ones(numnodos)*np.inf\n",
    "    V= np.zeros(numnodos)\n",
    "    a = nodoinicial\n",
    "    D[a]=0\n",
    "    Prv[a]=0\n",
    "    Prv[np.where(con[a]!=np.inf)]=a\n",
    "    V[a]=1\n",
    "    Dacc=D[a]\n",
    "    ########\n",
    "    D=np.minimum(D,con[a]+D[a])\n",
    "    cont=0\n",
    "    sucess=False\n",
    "    while(sucess==False):\n",
    "        a = np.argmin(D+np.where (V==1,np.inf, V))\n",
    "        Dacc=D[a]\n",
    "        Prv[np.where(D>(con[a]+Dacc) )]=a\n",
    "        V[a]=1\n",
    "        D=np.minimum(D,con[a]+Dacc)\n",
    "        if (a== nodofinal):\n",
    "            print(\"RUTA CALCULADA \")\n",
    "            sucess=True\n",
    "    rutainv=[]\n",
    "    rutainv.append(nodofinal)\n",
    "    while(rutainv[-1]!=nodoinicial):\n",
    "        prv=Prv[int(rutainv[-1])]\n",
    "        rutainv.append(prv)\n",
    "\n",
    "    ruta=[]\n",
    "    for n in reversed(rutainv):\n",
    "        ruta.append(n)\n",
    "    return(ruta)\n"
   ]
  },
  {
   "cell_type": "code",
   "execution_count": 4,
   "metadata": {},
   "outputs": [],
   "source": [
    "fast_load=True\n",
    "\n",
    "\n",
    "if fast_load:\n",
    "    datamugroso=pd.read_csv('pddata.csv')\n",
    "    data= datamugroso.iloc[:,1:].sample(n=8000,axis=0)\n",
    "    #lecs=data[data.Vk==lec_leida].sample(n=10,axis=0).iloc[:,:-6]\n",
    "\n",
    "lecs=data.iloc[:,:-6]"
   ]
  },
  {
   "cell_type": "code",
   "execution_count": 5,
   "metadata": {},
   "outputs": [
    {
     "data": {
      "text/html": [
       "<div>\n",
       "<style scoped>\n",
       "    .dataframe tbody tr th:only-of-type {\n",
       "        vertical-align: middle;\n",
       "    }\n",
       "\n",
       "    .dataframe tbody tr th {\n",
       "        vertical-align: top;\n",
       "    }\n",
       "\n",
       "    .dataframe thead th {\n",
       "        text-align: right;\n",
       "    }\n",
       "</style>\n",
       "<table border=\"1\" class=\"dataframe\">\n",
       "  <thead>\n",
       "    <tr style=\"text-align: right;\">\n",
       "      <th></th>\n",
       "      <th>R0</th>\n",
       "      <th>R1</th>\n",
       "      <th>R2</th>\n",
       "      <th>R3</th>\n",
       "      <th>R4</th>\n",
       "      <th>R5</th>\n",
       "      <th>R6</th>\n",
       "      <th>R7</th>\n",
       "      <th>R8</th>\n",
       "      <th>R9</th>\n",
       "      <th>...</th>\n",
       "      <th>R717</th>\n",
       "      <th>R718</th>\n",
       "      <th>R719</th>\n",
       "      <th>R720</th>\n",
       "      <th>x</th>\n",
       "      <th>y</th>\n",
       "      <th>theta</th>\n",
       "      <th>Vk_aff</th>\n",
       "      <th>Y</th>\n",
       "      <th>Vk</th>\n",
       "    </tr>\n",
       "  </thead>\n",
       "  <tbody>\n",
       "    <tr>\n",
       "      <th>count</th>\n",
       "      <td>8000.000000</td>\n",
       "      <td>8000.000000</td>\n",
       "      <td>8000.000000</td>\n",
       "      <td>8000.000000</td>\n",
       "      <td>8000.000000</td>\n",
       "      <td>8000.000000</td>\n",
       "      <td>8000.000000</td>\n",
       "      <td>8000.000000</td>\n",
       "      <td>8000.000000</td>\n",
       "      <td>8000.000000</td>\n",
       "      <td>...</td>\n",
       "      <td>8000.000000</td>\n",
       "      <td>8000.000000</td>\n",
       "      <td>8000.000000</td>\n",
       "      <td>8000.000000</td>\n",
       "      <td>8000.000000</td>\n",
       "      <td>8000.000000</td>\n",
       "      <td>8000.000000</td>\n",
       "      <td>8000.000000</td>\n",
       "      <td>8000.000000</td>\n",
       "      <td>8000.000000</td>\n",
       "    </tr>\n",
       "    <tr>\n",
       "      <th>mean</th>\n",
       "      <td>1.862362</td>\n",
       "      <td>1.860836</td>\n",
       "      <td>1.858418</td>\n",
       "      <td>1.853026</td>\n",
       "      <td>1.836335</td>\n",
       "      <td>1.818742</td>\n",
       "      <td>1.813720</td>\n",
       "      <td>1.816526</td>\n",
       "      <td>1.791819</td>\n",
       "      <td>1.775420</td>\n",
       "      <td>...</td>\n",
       "      <td>1.767349</td>\n",
       "      <td>1.777246</td>\n",
       "      <td>1.791085</td>\n",
       "      <td>1.794204</td>\n",
       "      <td>1.584747</td>\n",
       "      <td>1.959985</td>\n",
       "      <td>0.049234</td>\n",
       "      <td>189.957625</td>\n",
       "      <td>14.308875</td>\n",
       "      <td>56.074750</td>\n",
       "    </tr>\n",
       "    <tr>\n",
       "      <th>std</th>\n",
       "      <td>1.001532</td>\n",
       "      <td>1.004120</td>\n",
       "      <td>1.007238</td>\n",
       "      <td>1.007939</td>\n",
       "      <td>0.996753</td>\n",
       "      <td>0.977254</td>\n",
       "      <td>0.979022</td>\n",
       "      <td>0.988347</td>\n",
       "      <td>0.958402</td>\n",
       "      <td>0.939004</td>\n",
       "      <td>...</td>\n",
       "      <td>0.985287</td>\n",
       "      <td>0.996075</td>\n",
       "      <td>1.013744</td>\n",
       "      <td>1.015163</td>\n",
       "      <td>0.856562</td>\n",
       "      <td>1.355786</td>\n",
       "      <td>1.832366</td>\n",
       "      <td>106.522206</td>\n",
       "      <td>9.204907</td>\n",
       "      <td>38.155303</td>\n",
       "    </tr>\n",
       "    <tr>\n",
       "      <th>min</th>\n",
       "      <td>0.253752</td>\n",
       "      <td>0.252573</td>\n",
       "      <td>0.251412</td>\n",
       "      <td>0.250271</td>\n",
       "      <td>0.249148</td>\n",
       "      <td>0.248044</td>\n",
       "      <td>0.246958</td>\n",
       "      <td>0.245890</td>\n",
       "      <td>0.244839</td>\n",
       "      <td>0.243805</td>\n",
       "      <td>...</td>\n",
       "      <td>0.249102</td>\n",
       "      <td>0.250459</td>\n",
       "      <td>0.251839</td>\n",
       "      <td>0.253243</td>\n",
       "      <td>-0.806763</td>\n",
       "      <td>-0.246084</td>\n",
       "      <td>-3.140742</td>\n",
       "      <td>0.000000</td>\n",
       "      <td>0.000000</td>\n",
       "      <td>0.000000</td>\n",
       "    </tr>\n",
       "    <tr>\n",
       "      <th>25%</th>\n",
       "      <td>1.074655</td>\n",
       "      <td>1.071729</td>\n",
       "      <td>1.067492</td>\n",
       "      <td>1.062222</td>\n",
       "      <td>1.058460</td>\n",
       "      <td>1.059381</td>\n",
       "      <td>1.055438</td>\n",
       "      <td>1.052258</td>\n",
       "      <td>1.053275</td>\n",
       "      <td>1.049799</td>\n",
       "      <td>...</td>\n",
       "      <td>1.035574</td>\n",
       "      <td>1.041418</td>\n",
       "      <td>1.045986</td>\n",
       "      <td>1.048436</td>\n",
       "      <td>0.896347</td>\n",
       "      <td>0.723752</td>\n",
       "      <td>-1.650458</td>\n",
       "      <td>101.000000</td>\n",
       "      <td>6.000000</td>\n",
       "      <td>18.000000</td>\n",
       "    </tr>\n",
       "    <tr>\n",
       "      <th>50%</th>\n",
       "      <td>1.651425</td>\n",
       "      <td>1.642815</td>\n",
       "      <td>1.635277</td>\n",
       "      <td>1.629224</td>\n",
       "      <td>1.625027</td>\n",
       "      <td>1.624495</td>\n",
       "      <td>1.612998</td>\n",
       "      <td>1.609112</td>\n",
       "      <td>1.603080</td>\n",
       "      <td>1.600581</td>\n",
       "      <td>...</td>\n",
       "      <td>1.634671</td>\n",
       "      <td>1.639902</td>\n",
       "      <td>1.646672</td>\n",
       "      <td>1.651237</td>\n",
       "      <td>1.859047</td>\n",
       "      <td>1.863258</td>\n",
       "      <td>0.307716</td>\n",
       "      <td>195.000000</td>\n",
       "      <td>14.000000</td>\n",
       "      <td>53.000000</td>\n",
       "    </tr>\n",
       "    <tr>\n",
       "      <th>75%</th>\n",
       "      <td>2.306100</td>\n",
       "      <td>2.291981</td>\n",
       "      <td>2.276993</td>\n",
       "      <td>2.263144</td>\n",
       "      <td>2.237138</td>\n",
       "      <td>2.223870</td>\n",
       "      <td>2.222354</td>\n",
       "      <td>2.224392</td>\n",
       "      <td>2.198833</td>\n",
       "      <td>2.178131</td>\n",
       "      <td>...</td>\n",
       "      <td>2.152326</td>\n",
       "      <td>2.166172</td>\n",
       "      <td>2.173711</td>\n",
       "      <td>2.178712</td>\n",
       "      <td>2.288290</td>\n",
       "      <td>3.289327</td>\n",
       "      <td>1.587945</td>\n",
       "      <td>278.000000</td>\n",
       "      <td>22.000000</td>\n",
       "      <td>89.000000</td>\n",
       "    </tr>\n",
       "    <tr>\n",
       "      <th>max</th>\n",
       "      <td>5.000000</td>\n",
       "      <td>5.000000</td>\n",
       "      <td>5.000000</td>\n",
       "      <td>5.000000</td>\n",
       "      <td>5.000000</td>\n",
       "      <td>5.000000</td>\n",
       "      <td>5.000000</td>\n",
       "      <td>5.000000</td>\n",
       "      <td>5.000000</td>\n",
       "      <td>5.000000</td>\n",
       "      <td>...</td>\n",
       "      <td>5.000000</td>\n",
       "      <td>5.000000</td>\n",
       "      <td>5.000000</td>\n",
       "      <td>5.000000</td>\n",
       "      <td>3.264953</td>\n",
       "      <td>4.302407</td>\n",
       "      <td>3.141498</td>\n",
       "      <td>371.000000</td>\n",
       "      <td>31.000000</td>\n",
       "      <td>127.000000</td>\n",
       "    </tr>\n",
       "  </tbody>\n",
       "</table>\n",
       "<p>8 rows × 727 columns</p>\n",
       "</div>"
      ],
      "text/plain": [
       "                R0           R1           R2           R3           R4  \\\n",
       "count  8000.000000  8000.000000  8000.000000  8000.000000  8000.000000   \n",
       "mean      1.862362     1.860836     1.858418     1.853026     1.836335   \n",
       "std       1.001532     1.004120     1.007238     1.007939     0.996753   \n",
       "min       0.253752     0.252573     0.251412     0.250271     0.249148   \n",
       "25%       1.074655     1.071729     1.067492     1.062222     1.058460   \n",
       "50%       1.651425     1.642815     1.635277     1.629224     1.625027   \n",
       "75%       2.306100     2.291981     2.276993     2.263144     2.237138   \n",
       "max       5.000000     5.000000     5.000000     5.000000     5.000000   \n",
       "\n",
       "                R5           R6           R7           R8           R9  ...  \\\n",
       "count  8000.000000  8000.000000  8000.000000  8000.000000  8000.000000  ...   \n",
       "mean      1.818742     1.813720     1.816526     1.791819     1.775420  ...   \n",
       "std       0.977254     0.979022     0.988347     0.958402     0.939004  ...   \n",
       "min       0.248044     0.246958     0.245890     0.244839     0.243805  ...   \n",
       "25%       1.059381     1.055438     1.052258     1.053275     1.049799  ...   \n",
       "50%       1.624495     1.612998     1.609112     1.603080     1.600581  ...   \n",
       "75%       2.223870     2.222354     2.224392     2.198833     2.178131  ...   \n",
       "max       5.000000     5.000000     5.000000     5.000000     5.000000  ...   \n",
       "\n",
       "              R717         R718         R719         R720            x  \\\n",
       "count  8000.000000  8000.000000  8000.000000  8000.000000  8000.000000   \n",
       "mean      1.767349     1.777246     1.791085     1.794204     1.584747   \n",
       "std       0.985287     0.996075     1.013744     1.015163     0.856562   \n",
       "min       0.249102     0.250459     0.251839     0.253243    -0.806763   \n",
       "25%       1.035574     1.041418     1.045986     1.048436     0.896347   \n",
       "50%       1.634671     1.639902     1.646672     1.651237     1.859047   \n",
       "75%       2.152326     2.166172     2.173711     2.178712     2.288290   \n",
       "max       5.000000     5.000000     5.000000     5.000000     3.264953   \n",
       "\n",
       "                 y        theta       Vk_aff            Y           Vk  \n",
       "count  8000.000000  8000.000000  8000.000000  8000.000000  8000.000000  \n",
       "mean      1.959985     0.049234   189.957625    14.308875    56.074750  \n",
       "std       1.355786     1.832366   106.522206     9.204907    38.155303  \n",
       "min      -0.246084    -3.140742     0.000000     0.000000     0.000000  \n",
       "25%       0.723752    -1.650458   101.000000     6.000000    18.000000  \n",
       "50%       1.863258     0.307716   195.000000    14.000000    53.000000  \n",
       "75%       3.289327     1.587945   278.000000    22.000000    89.000000  \n",
       "max       4.302407     3.141498   371.000000    31.000000   127.000000  \n",
       "\n",
       "[8 rows x 727 columns]"
      ]
     },
     "execution_count": 5,
     "metadata": {},
     "output_type": "execute_result"
    }
   ],
   "source": [
    "data.describe()\n"
   ]
  },
  {
   "cell_type": "code",
   "execution_count": 6,
   "metadata": {},
   "outputs": [],
   "source": [
    "lecs=np.clip(lecs,0,5)\n",
    "data.iloc[:,:-6]=lecs"
   ]
  },
  {
   "cell_type": "code",
   "execution_count": 7,
   "metadata": {},
   "outputs": [
    {
     "data": {
      "text/html": [
       "<div>\n",
       "<style scoped>\n",
       "    .dataframe tbody tr th:only-of-type {\n",
       "        vertical-align: middle;\n",
       "    }\n",
       "\n",
       "    .dataframe tbody tr th {\n",
       "        vertical-align: top;\n",
       "    }\n",
       "\n",
       "    .dataframe thead th {\n",
       "        text-align: right;\n",
       "    }\n",
       "</style>\n",
       "<table border=\"1\" class=\"dataframe\">\n",
       "  <thead>\n",
       "    <tr style=\"text-align: right;\">\n",
       "      <th></th>\n",
       "      <th>R0</th>\n",
       "      <th>R1</th>\n",
       "      <th>R2</th>\n",
       "      <th>R3</th>\n",
       "      <th>R4</th>\n",
       "      <th>R5</th>\n",
       "      <th>R6</th>\n",
       "      <th>R7</th>\n",
       "      <th>R8</th>\n",
       "      <th>R9</th>\n",
       "      <th>...</th>\n",
       "      <th>R717</th>\n",
       "      <th>R718</th>\n",
       "      <th>R719</th>\n",
       "      <th>R720</th>\n",
       "      <th>x</th>\n",
       "      <th>y</th>\n",
       "      <th>theta</th>\n",
       "      <th>Vk_aff</th>\n",
       "      <th>Y</th>\n",
       "      <th>Vk</th>\n",
       "    </tr>\n",
       "  </thead>\n",
       "  <tbody>\n",
       "    <tr>\n",
       "      <th>count</th>\n",
       "      <td>8000.000000</td>\n",
       "      <td>8000.000000</td>\n",
       "      <td>8000.000000</td>\n",
       "      <td>8000.000000</td>\n",
       "      <td>8000.000000</td>\n",
       "      <td>8000.000000</td>\n",
       "      <td>8000.000000</td>\n",
       "      <td>8000.000000</td>\n",
       "      <td>8000.000000</td>\n",
       "      <td>8000.000000</td>\n",
       "      <td>...</td>\n",
       "      <td>8000.000000</td>\n",
       "      <td>8000.000000</td>\n",
       "      <td>8000.000000</td>\n",
       "      <td>8000.000000</td>\n",
       "      <td>8000.000000</td>\n",
       "      <td>8000.000000</td>\n",
       "      <td>8000.000000</td>\n",
       "      <td>8000.000000</td>\n",
       "      <td>8000.000000</td>\n",
       "      <td>8000.000000</td>\n",
       "    </tr>\n",
       "    <tr>\n",
       "      <th>mean</th>\n",
       "      <td>1.862362</td>\n",
       "      <td>1.860836</td>\n",
       "      <td>1.858418</td>\n",
       "      <td>1.853026</td>\n",
       "      <td>1.836335</td>\n",
       "      <td>1.818742</td>\n",
       "      <td>1.813720</td>\n",
       "      <td>1.816526</td>\n",
       "      <td>1.791819</td>\n",
       "      <td>1.775420</td>\n",
       "      <td>...</td>\n",
       "      <td>1.767349</td>\n",
       "      <td>1.777246</td>\n",
       "      <td>1.791085</td>\n",
       "      <td>1.794204</td>\n",
       "      <td>1.584747</td>\n",
       "      <td>1.959985</td>\n",
       "      <td>0.049234</td>\n",
       "      <td>189.957625</td>\n",
       "      <td>14.308875</td>\n",
       "      <td>56.074750</td>\n",
       "    </tr>\n",
       "    <tr>\n",
       "      <th>std</th>\n",
       "      <td>1.001532</td>\n",
       "      <td>1.004120</td>\n",
       "      <td>1.007238</td>\n",
       "      <td>1.007939</td>\n",
       "      <td>0.996753</td>\n",
       "      <td>0.977254</td>\n",
       "      <td>0.979022</td>\n",
       "      <td>0.988347</td>\n",
       "      <td>0.958402</td>\n",
       "      <td>0.939004</td>\n",
       "      <td>...</td>\n",
       "      <td>0.985287</td>\n",
       "      <td>0.996075</td>\n",
       "      <td>1.013744</td>\n",
       "      <td>1.015163</td>\n",
       "      <td>0.856562</td>\n",
       "      <td>1.355786</td>\n",
       "      <td>1.832366</td>\n",
       "      <td>106.522206</td>\n",
       "      <td>9.204907</td>\n",
       "      <td>38.155303</td>\n",
       "    </tr>\n",
       "    <tr>\n",
       "      <th>min</th>\n",
       "      <td>0.253752</td>\n",
       "      <td>0.252573</td>\n",
       "      <td>0.251412</td>\n",
       "      <td>0.250271</td>\n",
       "      <td>0.249148</td>\n",
       "      <td>0.248044</td>\n",
       "      <td>0.246958</td>\n",
       "      <td>0.245890</td>\n",
       "      <td>0.244839</td>\n",
       "      <td>0.243805</td>\n",
       "      <td>...</td>\n",
       "      <td>0.249102</td>\n",
       "      <td>0.250459</td>\n",
       "      <td>0.251839</td>\n",
       "      <td>0.253243</td>\n",
       "      <td>-0.806763</td>\n",
       "      <td>-0.246084</td>\n",
       "      <td>-3.140742</td>\n",
       "      <td>0.000000</td>\n",
       "      <td>0.000000</td>\n",
       "      <td>0.000000</td>\n",
       "    </tr>\n",
       "    <tr>\n",
       "      <th>25%</th>\n",
       "      <td>1.074655</td>\n",
       "      <td>1.071729</td>\n",
       "      <td>1.067492</td>\n",
       "      <td>1.062222</td>\n",
       "      <td>1.058460</td>\n",
       "      <td>1.059381</td>\n",
       "      <td>1.055438</td>\n",
       "      <td>1.052258</td>\n",
       "      <td>1.053275</td>\n",
       "      <td>1.049799</td>\n",
       "      <td>...</td>\n",
       "      <td>1.035574</td>\n",
       "      <td>1.041418</td>\n",
       "      <td>1.045986</td>\n",
       "      <td>1.048436</td>\n",
       "      <td>0.896347</td>\n",
       "      <td>0.723752</td>\n",
       "      <td>-1.650458</td>\n",
       "      <td>101.000000</td>\n",
       "      <td>6.000000</td>\n",
       "      <td>18.000000</td>\n",
       "    </tr>\n",
       "    <tr>\n",
       "      <th>50%</th>\n",
       "      <td>1.651425</td>\n",
       "      <td>1.642815</td>\n",
       "      <td>1.635277</td>\n",
       "      <td>1.629224</td>\n",
       "      <td>1.625027</td>\n",
       "      <td>1.624495</td>\n",
       "      <td>1.612998</td>\n",
       "      <td>1.609112</td>\n",
       "      <td>1.603080</td>\n",
       "      <td>1.600581</td>\n",
       "      <td>...</td>\n",
       "      <td>1.634671</td>\n",
       "      <td>1.639902</td>\n",
       "      <td>1.646672</td>\n",
       "      <td>1.651237</td>\n",
       "      <td>1.859047</td>\n",
       "      <td>1.863258</td>\n",
       "      <td>0.307716</td>\n",
       "      <td>195.000000</td>\n",
       "      <td>14.000000</td>\n",
       "      <td>53.000000</td>\n",
       "    </tr>\n",
       "    <tr>\n",
       "      <th>75%</th>\n",
       "      <td>2.306100</td>\n",
       "      <td>2.291981</td>\n",
       "      <td>2.276993</td>\n",
       "      <td>2.263144</td>\n",
       "      <td>2.237138</td>\n",
       "      <td>2.223870</td>\n",
       "      <td>2.222354</td>\n",
       "      <td>2.224392</td>\n",
       "      <td>2.198833</td>\n",
       "      <td>2.178131</td>\n",
       "      <td>...</td>\n",
       "      <td>2.152326</td>\n",
       "      <td>2.166172</td>\n",
       "      <td>2.173711</td>\n",
       "      <td>2.178712</td>\n",
       "      <td>2.288290</td>\n",
       "      <td>3.289327</td>\n",
       "      <td>1.587945</td>\n",
       "      <td>278.000000</td>\n",
       "      <td>22.000000</td>\n",
       "      <td>89.000000</td>\n",
       "    </tr>\n",
       "    <tr>\n",
       "      <th>max</th>\n",
       "      <td>5.000000</td>\n",
       "      <td>5.000000</td>\n",
       "      <td>5.000000</td>\n",
       "      <td>5.000000</td>\n",
       "      <td>5.000000</td>\n",
       "      <td>5.000000</td>\n",
       "      <td>5.000000</td>\n",
       "      <td>5.000000</td>\n",
       "      <td>5.000000</td>\n",
       "      <td>5.000000</td>\n",
       "      <td>...</td>\n",
       "      <td>5.000000</td>\n",
       "      <td>5.000000</td>\n",
       "      <td>5.000000</td>\n",
       "      <td>5.000000</td>\n",
       "      <td>3.264953</td>\n",
       "      <td>4.302407</td>\n",
       "      <td>3.141498</td>\n",
       "      <td>371.000000</td>\n",
       "      <td>31.000000</td>\n",
       "      <td>127.000000</td>\n",
       "    </tr>\n",
       "  </tbody>\n",
       "</table>\n",
       "<p>8 rows × 727 columns</p>\n",
       "</div>"
      ],
      "text/plain": [
       "                R0           R1           R2           R3           R4  \\\n",
       "count  8000.000000  8000.000000  8000.000000  8000.000000  8000.000000   \n",
       "mean      1.862362     1.860836     1.858418     1.853026     1.836335   \n",
       "std       1.001532     1.004120     1.007238     1.007939     0.996753   \n",
       "min       0.253752     0.252573     0.251412     0.250271     0.249148   \n",
       "25%       1.074655     1.071729     1.067492     1.062222     1.058460   \n",
       "50%       1.651425     1.642815     1.635277     1.629224     1.625027   \n",
       "75%       2.306100     2.291981     2.276993     2.263144     2.237138   \n",
       "max       5.000000     5.000000     5.000000     5.000000     5.000000   \n",
       "\n",
       "                R5           R6           R7           R8           R9  ...  \\\n",
       "count  8000.000000  8000.000000  8000.000000  8000.000000  8000.000000  ...   \n",
       "mean      1.818742     1.813720     1.816526     1.791819     1.775420  ...   \n",
       "std       0.977254     0.979022     0.988347     0.958402     0.939004  ...   \n",
       "min       0.248044     0.246958     0.245890     0.244839     0.243805  ...   \n",
       "25%       1.059381     1.055438     1.052258     1.053275     1.049799  ...   \n",
       "50%       1.624495     1.612998     1.609112     1.603080     1.600581  ...   \n",
       "75%       2.223870     2.222354     2.224392     2.198833     2.178131  ...   \n",
       "max       5.000000     5.000000     5.000000     5.000000     5.000000  ...   \n",
       "\n",
       "              R717         R718         R719         R720            x  \\\n",
       "count  8000.000000  8000.000000  8000.000000  8000.000000  8000.000000   \n",
       "mean      1.767349     1.777246     1.791085     1.794204     1.584747   \n",
       "std       0.985287     0.996075     1.013744     1.015163     0.856562   \n",
       "min       0.249102     0.250459     0.251839     0.253243    -0.806763   \n",
       "25%       1.035574     1.041418     1.045986     1.048436     0.896347   \n",
       "50%       1.634671     1.639902     1.646672     1.651237     1.859047   \n",
       "75%       2.152326     2.166172     2.173711     2.178712     2.288290   \n",
       "max       5.000000     5.000000     5.000000     5.000000     3.264953   \n",
       "\n",
       "                 y        theta       Vk_aff            Y           Vk  \n",
       "count  8000.000000  8000.000000  8000.000000  8000.000000  8000.000000  \n",
       "mean      1.959985     0.049234   189.957625    14.308875    56.074750  \n",
       "std       1.355786     1.832366   106.522206     9.204907    38.155303  \n",
       "min      -0.246084    -3.140742     0.000000     0.000000     0.000000  \n",
       "25%       0.723752    -1.650458   101.000000     6.000000    18.000000  \n",
       "50%       1.863258     0.307716   195.000000    14.000000    53.000000  \n",
       "75%       3.289327     1.587945   278.000000    22.000000    89.000000  \n",
       "max       4.302407     3.141498   371.000000    31.000000   127.000000  \n",
       "\n",
       "[8 rows x 727 columns]"
      ]
     },
     "execution_count": 7,
     "metadata": {},
     "output_type": "execute_result"
    }
   ],
   "source": [
    "data.describe()"
   ]
  },
  {
   "cell_type": "code",
   "execution_count": 8,
   "metadata": {},
   "outputs": [],
   "source": [
    "from sklearn.cluster import AffinityPropagation\n",
    "from sklearn.cluster import DBSCAN\n",
    "#from sklearn.cluster import OPTICS"
   ]
  },
  {
   "cell_type": "code",
   "execution_count": 14,
   "metadata": {},
   "outputs": [
    {
     "name": "stderr",
     "output_type": "stream",
     "text": [
      "/home/oscar/py3/lib/python3.6/site-packages/sklearn/cluster/_affinity_propagation.py:152: FutureWarning: 'random_state' has been introduced in 0.23. It will be set to None starting from 0.25 which means that results will differ at every function call. Set 'random_state' to None to silence this warning, or to 0 to keep the behavior of versions <0.23.\n",
      "  FutureWarning)\n"
     ]
    }
   ],
   "source": [
    "af = AffinityPropagation(damping=.8).fit(lecs)\n",
    "#db=DBSCAN().fit(lecs)"
   ]
  },
  {
   "cell_type": "code",
   "execution_count": 15,
   "metadata": {},
   "outputs": [],
   "source": [
    "data['Vk_aff']=af.labels_\n",
    "ccvk_aff= af.cluster_centers_"
   ]
  },
  {
   "cell_type": "code",
   "execution_count": 16,
   "metadata": {},
   "outputs": [
    {
     "data": {
      "text/html": [
       "<div>\n",
       "<style scoped>\n",
       "    .dataframe tbody tr th:only-of-type {\n",
       "        vertical-align: middle;\n",
       "    }\n",
       "\n",
       "    .dataframe tbody tr th {\n",
       "        vertical-align: top;\n",
       "    }\n",
       "\n",
       "    .dataframe thead th {\n",
       "        text-align: right;\n",
       "    }\n",
       "</style>\n",
       "<table border=\"1\" class=\"dataframe\">\n",
       "  <thead>\n",
       "    <tr style=\"text-align: right;\">\n",
       "      <th></th>\n",
       "      <th>Vk</th>\n",
       "      <th>Vk_aff</th>\n",
       "    </tr>\n",
       "  </thead>\n",
       "  <tbody>\n",
       "    <tr>\n",
       "      <th>11689</th>\n",
       "      <td>56</td>\n",
       "      <td>209</td>\n",
       "    </tr>\n",
       "    <tr>\n",
       "      <th>38871</th>\n",
       "      <td>22</td>\n",
       "      <td>303</td>\n",
       "    </tr>\n",
       "    <tr>\n",
       "      <th>37961</th>\n",
       "      <td>79</td>\n",
       "      <td>320</td>\n",
       "    </tr>\n",
       "    <tr>\n",
       "      <th>39191</th>\n",
       "      <td>102</td>\n",
       "      <td>0</td>\n",
       "    </tr>\n",
       "    <tr>\n",
       "      <th>14236</th>\n",
       "      <td>12</td>\n",
       "      <td>139</td>\n",
       "    </tr>\n",
       "    <tr>\n",
       "      <th>...</th>\n",
       "      <td>...</td>\n",
       "      <td>...</td>\n",
       "    </tr>\n",
       "    <tr>\n",
       "      <th>37818</th>\n",
       "      <td>73</td>\n",
       "      <td>67</td>\n",
       "    </tr>\n",
       "    <tr>\n",
       "      <th>10557</th>\n",
       "      <td>113</td>\n",
       "      <td>114</td>\n",
       "    </tr>\n",
       "    <tr>\n",
       "      <th>2383</th>\n",
       "      <td>41</td>\n",
       "      <td>11</td>\n",
       "    </tr>\n",
       "    <tr>\n",
       "      <th>29333</th>\n",
       "      <td>106</td>\n",
       "      <td>201</td>\n",
       "    </tr>\n",
       "    <tr>\n",
       "      <th>13591</th>\n",
       "      <td>106</td>\n",
       "      <td>45</td>\n",
       "    </tr>\n",
       "  </tbody>\n",
       "</table>\n",
       "<p>8000 rows × 2 columns</p>\n",
       "</div>"
      ],
      "text/plain": [
       "        Vk  Vk_aff\n",
       "11689   56     209\n",
       "38871   22     303\n",
       "37961   79     320\n",
       "39191  102       0\n",
       "14236   12     139\n",
       "...    ...     ...\n",
       "37818   73      67\n",
       "10557  113     114\n",
       "2383    41      11\n",
       "29333  106     201\n",
       "13591  106      45\n",
       "\n",
       "[8000 rows x 2 columns]"
      ]
     },
     "execution_count": 16,
     "metadata": {},
     "output_type": "execute_result"
    }
   ],
   "source": [
    "data[['Vk','Vk_aff']]"
   ]
  },
  {
   "cell_type": "code",
   "execution_count": 17,
   "metadata": {},
   "outputs": [
    {
     "data": {
      "text/plain": [
       "Text(0.5, 0.98, 'Affinity Prop')"
      ]
     },
     "execution_count": 17,
     "metadata": {},
     "output_type": "execute_result"
    },
    {
     "data": {
      "image/png": "[encoded data removed]",
      "text/plain": [
       "<Figure size 720x720 with 1 Axes>"
      ]
     },
     "metadata": {
      "needs_background": "light"
     },
     "output_type": "display_data"
    }
   ],
   "source": [
    "ccvk=np.load('ccvk.npy')\n",
    "fig = plt.figure(figsize=(10,10))\n",
    "\n",
    "ax1 = fig.add_subplot(111)\n",
    "ax1.scatter(x= data.x, y=data.y,marker='+',c=data.Vk_aff,alpha=.313)\n",
    "fig.suptitle('Affinity Prop', fontsize=16)\n",
    "\n",
    "\n",
    "\n",
    "\n",
    "#cords3=path_to_xy(np.arange(0,len(cc)),cc)\n",
    "#ax1.scatter(x= cords3.xcuant, y=cords3.ycuant ,marker='.',s=40,c='g')\n",
    "\n",
    "\n"
   ]
  },
  {
   "cell_type": "code",
   "execution_count": 18,
   "metadata": {},
   "outputs": [
    {
     "data": {
      "text/plain": [
       "120"
      ]
     },
     "execution_count": 18,
     "metadata": {},
     "output_type": "execute_result"
    }
   ],
   "source": [
    "data.Vk_aff.value_counts().index[1] \n"
   ]
  },
  {
   "cell_type": "code",
   "execution_count": 19,
   "metadata": {},
   "outputs": [
    {
     "data": {
      "text/plain": [
       "(9, 120)"
      ]
     },
     "execution_count": 19,
     "metadata": {},
     "output_type": "execute_result"
    }
   ],
   "source": [
    "#index_forlec=data.Vk_aff.value_counts().iloc[1]\n",
    "lec_aff_leida= data.Vk_aff.value_counts().index[1]\n",
    "lec=data[data.Vk_aff==lec_aff_leida].iloc[0,:-6].values\n",
    "\n",
    "#lec_Kmn_leida= data.Vk.value_counts().index[1]\n",
    "\n",
    "#lec=data.iloc[index_forlec,:-6].values\n",
    "lec_Kmn_leida=np.power(lec.T-ccvk,2).sum(axis=1,keepdims=True).argmin()\n",
    "lec_Kmn_leida,lec_aff_leida\n",
    "\n"
   ]
  },
  {
   "cell_type": "code",
   "execution_count": 20,
   "metadata": {},
   "outputs": [],
   "source": [
    "#lec=np.load('lec.npy')\n",
    "\n",
    "start_ang=-240/2*np.pi/180\n",
    "stop_ang= 240/2*np.pi/180\n",
    "angs=np.linspace(start_ang,stop_ang,num=len(lec))\n"
   ]
  },
  {
   "cell_type": "code",
   "execution_count": 21,
   "metadata": {},
   "outputs": [
    {
     "data": {
      "text/plain": [
       "<matplotlib.legend.Legend at 0x7f15121fa630>"
      ]
     },
     "execution_count": 21,
     "metadata": {},
     "output_type": "execute_result"
    },
    {
     "data": {
      "image/png": "[encoded data removed]",
      "text/plain": [
       "<Figure size 720x720 with 1 Axes>"
      ]
     },
     "metadata": {
      "needs_background": "light"
     },
     "output_type": "display_data"
    }
   ],
   "source": [
    "#ccvk=cc\n",
    "cc=ccvk\n",
    "cordsy, cordsx= np.cos(angs) *  lec ,  np.sin(angs) *  lec\n",
    "CORDS=pd.DataFrame((cordsx,cordsy))\n",
    "CORDS=CORDS.T\n",
    "CORDS.columns=['x','y']\n",
    "#print(np.power(lec.T-ccvk,2).sum(axis=1,keepdims=True).argmax())\n",
    "#vec_obs=ccvk[np.power(lec.T-ccvk,2).sum(axis=1,keepdims=True).argmax()]\n",
    "vec_obs_aff=ccvk_aff[lec_aff_leida]\n",
    "vec_obs=cc[lec_Kmn_leida]\n",
    "\n",
    "cordsy, cordsx= np.cos(angs) *  vec_obs ,  np.sin(angs) *  vec_obs_aff\n",
    "CORDS['xx'],CORDS['yy']=cordsx,cordsy\n",
    "cordsy, cordsx= np.cos(angs) *  vec_obs_aff ,  np.sin(angs) *  vec_obs_aff\n",
    "CORDS['xxx'],CORDS['yyy']=cordsx,cordsy\n",
    "\n",
    "fig = plt.figure(figsize=(10,10))\n",
    "fig.suptitle('Comparison Between real read and cuantized', fontsize=16)\n",
    "\n",
    "ax1 = fig.add_subplot(111)\n",
    "ax1.scatter(x= CORDS.x, y=CORDS.y,marker='+' , label= 'Real Read')\n",
    "ax1.scatter(x=CORDS.xx,y=CORDS.yy,marker='*', label= 'MiniKmeans Centroid')\n",
    "ax1.scatter(x=CORDS.xxx,y=CORDS.yyy,marker='|', label= 'Affinity Prop')\n",
    "ax1.legend()"
   ]
  },
  {
   "cell_type": "code",
   "execution_count": 22,
   "metadata": {},
   "outputs": [
    {
     "name": "stdout",
     "output_type": "stream",
     "text": [
      "265\n"
     ]
    }
   ],
   "source": [
    "lec_aff_leida= data.Vk_aff.value_counts().index[25]\n",
    "print (lec_aff_leida)"
   ]
  },
  {
   "cell_type": "code",
   "execution_count": 23,
   "metadata": {},
   "outputs": [
    {
     "name": "stdout",
     "output_type": "stream",
     "text": [
      "265 67\n"
     ]
    }
   ],
   "source": [
    "#index_forlec=data.Vk_aff.value_counts().iloc[1]\n",
    "lec=data[data.Vk_aff==lec_aff_leida].iloc[0,:-6].values\n",
    "\n",
    "lec_Kmn_leida= np.power(lec.T-ccvk,2).sum(axis=1,keepdims=True).argmin()\n",
    "\n",
    "#lec=data.iloc[index_forlec,:-6].values\n",
    "\n",
    "#vec_obs=ccvk[np.power(lec.T-ccvk,2).sum(axis=1,keepdims=True).argmin()]\n",
    "\n",
    "print(lec_aff_leida, lec_Kmn_leida)"
   ]
  },
  {
   "cell_type": "code",
   "execution_count": 24,
   "metadata": {},
   "outputs": [],
   "source": [
    "#lec=np.load('lec.npy')\n",
    "\n",
    "start_ang=-240/2*np.pi/180\n",
    "stop_ang= 240/2*np.pi/180\n",
    "angs=np.linspace(start_ang,stop_ang,num=len(lec))\n"
   ]
  },
  {
   "cell_type": "code",
   "execution_count": 25,
   "metadata": {},
   "outputs": [
    {
     "data": {
      "text/plain": [
       "<matplotlib.legend.Legend at 0x7f1511edd588>"
      ]
     },
     "execution_count": 25,
     "metadata": {},
     "output_type": "execute_result"
    },
    {
     "data": {
      "image/png": "[encoded data removed]",
      "text/plain": [
       "<Figure size 720x720 with 1 Axes>"
      ]
     },
     "metadata": {
      "needs_background": "light"
     },
     "output_type": "display_data"
    }
   ],
   "source": [
    "#ccvk=cc\n",
    "cordsy, cordsx= np.cos(angs) *  lec ,  np.sin(angs) *  lec\n",
    "CORDS=pd.DataFrame((cordsx,cordsy))\n",
    "CORDS=CORDS.T\n",
    "CORDS.columns=['x','y']\n",
    "#print(np.power(lec.T-ccvk,2).sum(axis=1,keepdims=True).argmax())\n",
    "#vec_obs=ccvk[np.power(lec.T-ccvk,2).sum(axis=1,keepdims=True).argmax()]\n",
    "vec_obs_aff=ccvk_aff[lec_aff_leida]\n",
    "vec_obs=cc[lec_Kmn_leida]\n",
    "\n",
    "cordsy, cordsx= np.cos(angs) *  vec_obs ,  np.sin(angs) *  vec_obs_aff\n",
    "CORDS['xx'],CORDS['yy']=cordsx,cordsy\n",
    "cordsy, cordsx= np.cos(angs) *  vec_obs_aff ,  np.sin(angs) *  vec_obs_aff\n",
    "CORDS['xxx'],CORDS['yyy']=cordsx,cordsy\n",
    "\n",
    "fig = plt.figure(figsize=(10,10))\n",
    "fig.suptitle('Comparison Between real read and cuantized', fontsize=16)\n",
    "\n",
    "ax1 = fig.add_subplot(111)\n",
    "ax1.scatter(x= CORDS.x, y=CORDS.y,marker='+' , label= 'Real Read')\n",
    "ax1.scatter(x=CORDS.xx,y=CORDS.yy,marker='*', label= 'MiniKmeans Centroid')\n",
    "ax1.scatter(x=CORDS.xxx,y=CORDS.yyy,marker='|', label= 'Affinity Prop')\n",
    "ax1.legend()"
   ]
  },
  {
   "cell_type": "code",
   "execution_count": 26,
   "metadata": {},
   "outputs": [
    {
     "data": {
      "text/plain": [
       "['aff_prop_class.joblib']"
      ]
     },
     "execution_count": 26,
     "metadata": {},
     "output_type": "execute_result"
    }
   ],
   "source": [
    "from joblib import dump, load\n",
    "dump(af, 'aff_prop_class.joblib',protocol=2) "
   ]
  },
  {
   "cell_type": "code",
   "execution_count": 27,
   "metadata": {},
   "outputs": [
    {
     "name": "stderr",
     "output_type": "stream",
     "text": [
      "/home/oscar/py3/lib/python3.6/site-packages/sklearn/utils/deprecation.py:143: FutureWarning: The sklearn.cluster.affinity_propagation_ module is  deprecated in version 0.22 and will be removed in version 0.24. The corresponding classes / functions should instead be imported from sklearn.cluster. Anything that cannot be imported from sklearn.cluster is now part of the private API.\n",
      "  warnings.warn(message, FutureWarning)\n",
      "/home/oscar/py3/lib/python3.6/site-packages/sklearn/base.py:334: UserWarning: Trying to unpickle estimator AffinityPropagation from version 0.19.1 when using version 0.23.1. This might lead to breaking code or invalid results. Use at your own risk.\n",
      "  UserWarning)\n"
     ]
    }
   ],
   "source": [
    "clf=load('aff_prop_class.joblib_2') ##PYTHON VERSION 2 "
   ]
  },
  {
   "cell_type": "code",
   "execution_count": null,
   "metadata": {},
   "outputs": [],
   "source": []
  },
  {
   "cell_type": "code",
   "execution_count": null,
   "metadata": {},
   "outputs": [],
   "source": []
  },
  {
   "cell_type": "code",
   "execution_count": null,
   "metadata": {},
   "outputs": [],
   "source": []
  },
  {
   "cell_type": "code",
   "execution_count": null,
   "metadata": {},
   "outputs": [],
   "source": []
  },
  {
   "cell_type": "code",
   "execution_count": null,
   "metadata": {},
   "outputs": [],
   "source": []
  },
  {
   "cell_type": "code",
   "execution_count": null,
   "metadata": {},
   "outputs": [],
   "source": []
  },
  {
   "cell_type": "code",
   "execution_count": null,
   "metadata": {},
   "outputs": [],
   "source": []
  },
  {
   "cell_type": "code",
   "execution_count": null,
   "metadata": {},
   "outputs": [],
   "source": []
  },
  {
   "cell_type": "code",
   "execution_count": null,
   "metadata": {},
   "outputs": [],
   "source": []
  },
  {
   "cell_type": "code",
   "execution_count": null,
   "metadata": {},
   "outputs": [],
   "source": []
  },
  {
   "cell_type": "code",
   "execution_count": null,
   "metadata": {},
   "outputs": [],
   "source": []
  },
  {
   "cell_type": "code",
   "execution_count": null,
   "metadata": {},
   "outputs": [],
   "source": []
  },
  {
   "cell_type": "code",
   "execution_count": null,
   "metadata": {},
   "outputs": [],
   "source": []
  },
  {
   "cell_type": "code",
   "execution_count": null,
   "metadata": {},
   "outputs": [],
   "source": [
    "lecs=data.iloc[:,:-6]\n",
    "from sklearn.cluster import OPTICS\n",
    "clust = OPTICS(min_samples=10)"
   ]
  },
  {
   "cell_type": "code",
   "execution_count": null,
   "metadata": {},
   "outputs": [],
   "source": [
    "#####clust.fit(lecs)###NO PREDICT FUNC SO UNFEASIBLE$"
   ]
  },
  {
   "cell_type": "code",
   "execution_count": null,
   "metadata": {},
   "outputs": [],
   "source": [
    "pd.Series(clust.labels_).describe()\n",
    "data.Vk_aff=clust.labels_"
   ]
  },
  {
   "cell_type": "code",
   "execution_count": null,
   "metadata": {},
   "outputs": [],
   "source": [
    "dump(clust, 'OPTICS_class.joblib',protocol=2) "
   ]
  },
  {
   "cell_type": "code",
   "execution_count": null,
   "metadata": {},
   "outputs": [],
   "source": [
    "#index_forlec=data.Vk_aff.value_counts().iloc[1]\n",
    "lec_leida= data.Vk_aff.value_counts().index[1]\n",
    "#lec=data.iloc[index_forlec,:-6].values\n",
    "lec=data[data.Vk_aff==lec_leida].iloc[0,:-6].values\n",
    "lec_leida"
   ]
  },
  {
   "cell_type": "code",
   "execution_count": null,
   "metadata": {},
   "outputs": [],
   "source": []
  },
  {
   "cell_type": "code",
   "execution_count": null,
   "metadata": {},
   "outputs": [],
   "source": [
    "#lec=np.load('lec.npy')\n",
    "\n",
    "start_ang=-240/2*np.pi/180\n",
    "stop_ang= 240/2*np.pi/180\n",
    "angs=np.linspace(start_ang,stop_ang,num=len(lec))\n"
   ]
  },
  {
   "cell_type": "code",
   "execution_count": null,
   "metadata": {},
   "outputs": [],
   "source": []
  },
  {
   "cell_type": "code",
   "execution_count": null,
   "metadata": {},
   "outputs": [],
   "source": [
    "auxy , auxx =np.array([0,0]),np.array([0,0])\n",
    "start_ang=-250/2*np.pi/180\n",
    "stop_ang= 250/2*np.pi/180\n",
    "angs=np.linspace(start_ang,stop_ang,num=len(vec_obs))\n",
    "\n",
    "\n",
    "lecs=data[data.Vk_aff==lec_leida].sample(n=10,axis=0).iloc[:,:-6]\n",
    "\n",
    "for  vec_obs in lecs.values.tolist():\n",
    "    cordsy,cordsx= np.cos(angs) *  vec_obs ,  np.sin(angs) *  vec_obs\n",
    "    auxy,auxx=np.concatenate((auxy,cordsy)),np.concatenate((auxx,cordsx))\n",
    "print(lec_leida)    "
   ]
  },
  {
   "cell_type": "code",
   "execution_count": null,
   "metadata": {},
   "outputs": [],
   "source": [
    "\n",
    "CORDS=pd.DataFrame((auxx,auxy))\n",
    "CORDS=CORDS.T\n",
    "CORDS.columns=[['x','y']]\n",
    "\n",
    "vec_obs=ccvk_aff[lec_leida]\n",
    "cordsy, cordsx= np.cos(angs) *  vec_obs ,  np.sin(angs) *  vec_obs\n",
    "\n",
    "CORDSVK=pd.DataFrame()\n",
    "CORDSVK['xx'],CORDSVK['yy']=cordsx,cordsy\n",
    "\n",
    "\n",
    "fig = plt.figure(figsize=(10,10))\n",
    "fig.suptitle('Comparison Between real 15 random reads and their cuantized versions OPTICS', fontsize=16)\n",
    "\n",
    "ax1 = fig.add_subplot(111)\n",
    "ax1.scatter(x= CORDS.x, y=CORDS.y,marker='+')\n",
    "#ax1.scatter(x=CORDSVK.xx,y=CORDSVK.yy,marker='*')\n",
    "print(lec_leida)"
   ]
  },
  {
   "cell_type": "code",
   "execution_count": null,
   "metadata": {},
   "outputs": [],
   "source": [
    "lec_leida= data.Vk_aff.value_counts().index[3]\n",
    "\n",
    "lec=data[data.Vk_aff==lec_leida].iloc[0,:-6].values\n",
    "\n",
    "lec_leida"
   ]
  },
  {
   "cell_type": "code",
   "execution_count": null,
   "metadata": {},
   "outputs": [],
   "source": [
    "ccvk=cc\n",
    "cordsy, cordsx= np.cos(angs) *  lec ,  np.sin(angs) *  lec\n",
    "CORDS=pd.DataFrame((cordsx,cordsy))\n",
    "CORDS=CORDS.T\n",
    "CORDS.columns=[['x','y']]\n",
    "#print(np.power(lec.T-ccvk,2).sum(axis=1,keepdims=True).argmax())\n",
    "vec_obs=ccvk[np.power(lec.T-ccvk,2).sum(axis=1,keepdims=True).argmax()]\n",
    "vec_obs_aff=ccvk_aff[lec_leida]\n",
    "\n",
    "cordsy, cordsx= np.cos(angs) *  vec_obs ,  np.sin(angs) *  vec_obs\n",
    "CORDS['xx'],CORDS['yy']=cordsx,cordsy\n",
    "cordsy, cordsx= np.cos(angs) *  vec_obs_aff ,  np.sin(angs) *  vec_obs_aff\n",
    "CORDS['xxx'],CORDS['yyy']=cordsx,cordsy\n",
    "\n",
    "fig = plt.figure(figsize=(10,10))\n",
    "fig.suptitle('Comparison Between real read and cuantized', fontsize=16)\n",
    "\n",
    "ax1 = fig.add_subplot(111)\n",
    "ax1.scatter(x= CORDS.x, y=CORDS.y,marker='+' , label= 'Real Read')\n",
    "#ax1.scatter(x=CORDS.xx,y=CORDS.yy,marker='*', label= 'MiniKmeans Centroid')\n",
    "ax1.scatter(x=CORDS.xxx,y=CORDS.yyy,marker='|', label= 'OPTICS')\n",
    "ax1.legend()"
   ]
  },
  {
   "cell_type": "code",
   "execution_count": null,
   "metadata": {},
   "outputs": [],
   "source": [
    "auxy , auxx =np.array([0,0]),np.array([0,0])\n",
    "start_ang=-250/2*np.pi/180\n",
    "stop_ang= 250/2*np.pi/180\n",
    "angs=np.linspace(start_ang,stop_ang,num=len(vec_obs))\n",
    "\n",
    "\n",
    "lecs=data[data.Vk_aff==lec_leida].sample(n=10,axis=0).iloc[:,:-6]\n",
    "\n",
    "for  vec_obs in lecs.values.tolist():\n",
    "    cordsy,cordsx= np.cos(angs) *  vec_obs ,  np.sin(angs) *  vec_obs\n",
    "    auxy,auxx=np.concatenate((auxy,cordsy)),np.concatenate((auxx,cordsx))\n",
    "print(lec_leida)    "
   ]
  },
  {
   "cell_type": "code",
   "execution_count": null,
   "metadata": {},
   "outputs": [],
   "source": [
    "\n",
    "CORDS=pd.DataFrame((auxx,auxy))\n",
    "CORDS=CORDS.T\n",
    "CORDS.columns=[['x','y']]\n",
    "\n",
    "vec_obs=ccvk_aff[lec_leida]\n",
    "cordsy, cordsx= np.cos(angs) *  vec_obs ,  np.sin(angs) *  vec_obs\n",
    "\n",
    "CORDSVK=pd.DataFrame()\n",
    "CORDSVK['xx'],CORDSVK['yy']=cordsx,cordsy\n",
    "\n",
    "\n",
    "fig = plt.figure(figsize=(10,10))\n",
    "fig.suptitle('Comparison Between real 15 random reads and their cuantized versions OPTICS', fontsize=16)\n",
    "\n",
    "ax1 = fig.add_subplot(111)\n",
    "ax1.scatter(x= CORDS.x, y=CORDS.y,marker='+')\n",
    "ax1.scatter(x=CORDSVK.xx,y=CORDSVK.yy,marker='*')\n",
    "print(lec_leida)"
   ]
  },
  {
   "cell_type": "code",
   "execution_count": null,
   "metadata": {},
   "outputs": [],
   "source": [
    "dump(af, 'aff_prop_class.joblib',protocol=2) "
   ]
  },
  {
   "cell_type": "code",
   "execution_count": null,
   "metadata": {},
   "outputs": [],
   "source": [
    "lecs=data.iloc[:,:-6]\n",
    "from sklearn.cluster import FeatureAgglomeration\n",
    "agglo = FeatureAgglomeration(n_clusters=15)"
   ]
  },
  {
   "cell_type": "code",
   "execution_count": null,
   "metadata": {},
   "outputs": [],
   "source": [
    "agglo.fit(lecs)"
   ]
  },
  {
   "cell_type": "code",
   "execution_count": null,
   "metadata": {},
   "outputs": [],
   "source": [
    "lecs_reduced=agglo.fit_transform(lecs)"
   ]
  },
  {
   "cell_type": "code",
   "execution_count": null,
   "metadata": {},
   "outputs": [],
   "source": [
    "lecs_reduced.shape"
   ]
  },
  {
   "cell_type": "code",
   "execution_count": null,
   "metadata": {},
   "outputs": [],
   "source": [
    "from sklearn.decomposition import PCA, KernelPCA"
   ]
  },
  {
   "cell_type": "code",
   "execution_count": null,
   "metadata": {},
   "outputs": [],
   "source": [
    "pca =PCA(n_components=15)\n",
    "pca.fit(lecs)"
   ]
  },
  {
   "cell_type": "code",
   "execution_count": null,
   "metadata": {},
   "outputs": [],
   "source": [
    "pca.transform(lecs).shape"
   ]
  },
  {
   "cell_type": "code",
   "execution_count": null,
   "metadata": {},
   "outputs": [],
   "source": [
    "###TO DO GRID SEARCH PCA. FEATURE AGGL"
   ]
  },
  {
   "cell_type": "code",
   "execution_count": null,
   "metadata": {},
   "outputs": [],
   "source": []
  },
  {
   "cell_type": "code",
   "execution_count": null,
   "metadata": {},
   "outputs": [],
   "source": [
    "##LBG----- REading Doc's centroids\n",
    "f=open('vq_images_sonar_32.dat')\n",
    "contents=f.readlines()\n",
    "cc_lgbt=[]\n",
    "for char in contents:\n",
    "    words=char.split()\n",
    "    cc_lgbt.append(words[2:])\n",
    "cc_buzo=[]\n",
    "for i in range(32):\n",
    "    cc_buzo.append(np.asarray(cc_lgbt[i]))\n",
    "cc_buzo=np.asarray(cc_buzo)\n"
   ]
  },
  {
   "cell_type": "code",
   "execution_count": null,
   "metadata": {},
   "outputs": [],
   "source": [
    "cc_buzo.shape"
   ]
  },
  {
   "cell_type": "code",
   "execution_count": null,
   "metadata": {},
   "outputs": [],
   "source": []
  },
  {
   "cell_type": "code",
   "execution_count": null,
   "metadata": {},
   "outputs": [],
   "source": [
    "len(cc_buzo)"
   ]
  },
  {
   "cell_type": "code",
   "execution_count": null,
   "metadata": {},
   "outputs": [],
   "source": []
  },
  {
   "cell_type": "code",
   "execution_count": null,
   "metadata": {},
   "outputs": [],
   "source": []
  },
  {
   "cell_type": "code",
   "execution_count": null,
   "metadata": {},
   "outputs": [],
   "source": []
  },
  {
   "cell_type": "code",
   "execution_count": null,
   "metadata": {},
   "outputs": [],
   "source": []
  },
  {
   "cell_type": "code",
   "execution_count": null,
   "metadata": {},
   "outputs": [],
   "source": []
  },
  {
   "cell_type": "code",
   "execution_count": null,
   "metadata": {},
   "outputs": [],
   "source": []
  },
  {
   "cell_type": "code",
   "execution_count": null,
   "metadata": {},
   "outputs": [],
   "source": []
  },
  {
   "cell_type": "code",
   "execution_count": null,
   "metadata": {},
   "outputs": [],
   "source": [
    "import joblib"
   ]
  },
  {
   "cell_type": "code",
   "execution_count": null,
   "metadata": {},
   "outputs": [],
   "source": [
    "import sys\n"
   ]
  },
  {
   "cell_type": "code",
   "execution_count": null,
   "metadata": {},
   "outputs": [],
   "source": [
    "sys.path.append('/usr/lib/python2.7/')"
   ]
  },
  {
   "cell_type": "code",
   "execution_count": null,
   "metadata": {},
   "outputs": [],
   "source": []
  }
 ],
 "metadata": {
  "kernelspec": {
   "display_name": "Python 3",
   "language": "python",
   "name": "python3"
  },
  "language_info": {
   "codemirror_mode": {
    "name": "ipython",
    "version": 3
   },
   "file_extension": ".py",
   "mimetype": "text/x-python",
   "name": "python",
   "nbconvert_exporter": "python",
   "pygments_lexer": "ipython3",
   "version": "3.6.9"
  }
 },
 "nbformat": 4,
 "nbformat_minor": 2
}
